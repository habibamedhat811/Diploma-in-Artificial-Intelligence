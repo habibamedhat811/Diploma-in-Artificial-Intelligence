{
  "cells": [
    {
      "cell_type": "markdown",
      "metadata": {
        "id": "view-in-github",
        "colab_type": "text"
      },
      "source": [
        "<a href=\"https://colab.research.google.com/github/habibamedhat811/Diploma-in-Artificial-Intelligence/blob/main/Copy_of_task4.ipynb\" target=\"_parent\"><img src=\"https://colab.research.google.com/assets/colab-badge.svg\" alt=\"Open In Colab\"/></a>"
      ]
    },
    {
      "cell_type": "markdown",
      "id": "759d04ba",
      "metadata": {
        "id": "759d04ba"
      },
      "source": [
        "**1-Write a Python program to calculate the length of a string using 2 ways"
      ]
    },
    {
      "cell_type": "code",
      "execution_count": null,
      "id": "e434c950",
      "metadata": {
        "id": "e434c950",
        "colab": {
          "base_uri": "https://localhost:8080/"
        },
        "outputId": "cbd5540c-80e2-44a7-fb2a-0d8731b030c9"
      },
      "outputs": [
        {
          "output_type": "stream",
          "name": "stdout",
          "text": [
            "Enter a string: habiba\n",
            "Length using len(): 6\n"
          ]
        }
      ],
      "source": [
        "text = input(\"Enter a string: \")\n",
        "length1 = len(text)\n",
        "print(\"Length using len():\", length1)"
      ]
    },
    {
      "cell_type": "code",
      "execution_count": null,
      "id": "7a2dfa32",
      "metadata": {
        "id": "7a2dfa32",
        "colab": {
          "base_uri": "https://localhost:8080/"
        },
        "outputId": "baf8dd64-b640-48e7-fc63-2e6b5dfdf24c"
      },
      "outputs": [
        {
          "output_type": "stream",
          "name": "stdout",
          "text": [
            "Enter a string: habiba\n",
            "Length using loop: 6\n"
          ]
        }
      ],
      "source": [
        "def get_length(s):\n",
        "    text = input(\"Enter a string: \")\n",
        "    count = 0\n",
        "    for char in s:\n",
        "        count += 1\n",
        "    return count\n",
        "length2 = get_length(text)\n",
        "print(\"Length using loop:\", length2)\n"
      ]
    },
    {
      "cell_type": "markdown",
      "id": "d7cc9da7",
      "metadata": {
        "id": "d7cc9da7"
      },
      "source": [
        "**2-Write a Python program to get a string made of the first 2 and last 2 characters of a given string. If the string length is less than 2, return the empty string instead (\"##Sample String : 'w3resource'\n",
        "Expected Result : 'w3ce'\n",
        "##Sample String : 'w3'\n",
        "Expected Result : 'w3w3'\n",
        "##Sample String : ' w'\n",
        "Expected Result : Empty String)"
      ]
    },
    {
      "cell_type": "code",
      "execution_count": null,
      "id": "dafa9dd8",
      "metadata": {
        "id": "dafa9dd8",
        "colab": {
          "base_uri": "https://localhost:8080/"
        },
        "outputId": "3ed8f13a-fcba-4038-b9dd-3db17bd9a227"
      },
      "outputs": [
        {
          "output_type": "stream",
          "name": "stdout",
          "text": [
            "Enter a string: h\n",
            " empty_String\n"
          ]
        }
      ],
      "source": [
        "empty_String = input(\"Enter a string: \")\n",
        "\n",
        "if len(empty_String) < 2:\n",
        "    empty_String = \"\"\n",
        "else:\n",
        "    empty_String = empty_String[:2] + empty_String[-2:]\n",
        "print(\" empty_String\")\n",
        "\n"
      ]
    },
    {
      "cell_type": "markdown",
      "id": "1534f956",
      "metadata": {
        "id": "1534f956"
      },
      "source": [
        "**3-Write a Python program to add 'ing' at the end of a given string (length should be at least 3). If the given string already ends with 'ing', add 'ly' instead. If the string length of the given string is less than 3, leave it unchanged. (Sample String : 'abc'\n",
        "Expected Result : 'abcing')"
      ]
    },
    {
      "cell_type": "code",
      "source": [
        "text = input(\"Enter a string: \")\n",
        "\n",
        "if len(text) < 3:\n",
        "    result = text\n",
        "elif text[-3:] == \"ing\":\n",
        "    result = text[:-3] + \"ly\"\n",
        "else:\n",
        "    result = text + \"ing\"\n",
        "print(\"Result:\", result)\n"
      ],
      "metadata": {
        "colab": {
          "base_uri": "https://localhost:8080/"
        },
        "id": "Kfc5chHP1tvu",
        "outputId": "bef0f26e-d7dc-4607-c70b-4cbe12e1839c"
      },
      "id": "Kfc5chHP1tvu",
      "execution_count": null,
      "outputs": [
        {
          "output_type": "stream",
          "name": "stdout",
          "text": [
            "Enter a string: running\n",
            "Result: runnly\n"
          ]
        }
      ]
    },
    {
      "cell_type": "markdown",
      "id": "1c0a6627",
      "metadata": {
        "id": "1c0a6627"
      },
      "source": [
        "**4-Write a Python function that takes a list of words and return the longest word and the length of the longest one\n",
        "(Longest word: Exercises\n",
        "Length of the longest word: 9)"
      ]
    },
    {
      "cell_type": "code",
      "execution_count": null,
      "id": "397341d9",
      "metadata": {
        "id": "397341d9",
        "colab": {
          "base_uri": "https://localhost:8080/"
        },
        "outputId": "43c9b550-9f0c-4969-ff0d-6669723f2d34"
      },
      "outputs": [
        {
          "output_type": "stream",
          "name": "stdout",
          "text": [
            "Enter a list of words separated by spaces: habiba , medhat , mohamed , ali\n",
            "Longest word: mohamed Length of the longest word: 7\n"
          ]
        }
      ],
      "source": [
        "def longest_word(words):\n",
        "    longest = max(words, key=len)\n",
        "    return longest, len(longest)\n",
        "words_list = input(\"Enter a list of words separated by spaces: \").split()\n",
        "longest, length = longest_word(words_list)\n",
        "print(f\"Longest word: {longest} Length of the longest word: {length}\")\n"
      ]
    },
    {
      "cell_type": "markdown",
      "id": "53a03a6a",
      "metadata": {
        "id": "53a03a6a"
      },
      "source": [
        "**5-Write a Python program to change a given string to a newly string where the first and last chars have been exchanged using 2 ways (Sample String:abce  Expected Result:ebca)"
      ]
    },
    {
      "cell_type": "code",
      "execution_count": null,
      "id": "285788b4",
      "metadata": {
        "id": "285788b4",
        "colab": {
          "base_uri": "https://localhost:8080/"
        },
        "outputId": "68fb77cd-ee4d-4a18-dc01-95dcd4b2e1b5"
      },
      "outputs": [
        {
          "output_type": "stream",
          "name": "stdout",
          "text": [
            "Enter a string: habiba\n",
            "Result: aabibh\n"
          ]
        }
      ],
      "source": [
        "text = input(\"Enter a string: \")\n",
        "if len(text) < 2:\n",
        "    result = text\n",
        "else:\n",
        "    result = text[-1] + text[1:-1] + text[0]\n",
        "print(\"Result:\", result)"
      ]
    },
    {
      "cell_type": "code",
      "source": [
        "text = input(\"Enter a string: \")\n",
        "if len(text) < 2:\n",
        "    result = text\n",
        "else:\n",
        "    text_list = list(text)\n",
        "    text_list[0], text_list[-1] = text_list[-1], text_list[0]\n",
        "    result = ''.join(text_list)\n",
        "print(\"Result:\",text_list )\n",
        "print(\"Result:\", result)"
      ],
      "metadata": {
        "colab": {
          "base_uri": "https://localhost:8080/"
        },
        "id": "JFPCFHNi4w7c",
        "outputId": "b4398e3d-81b4-4057-abee-e9a76e6479e3"
      },
      "id": "JFPCFHNi4w7c",
      "execution_count": null,
      "outputs": [
        {
          "output_type": "stream",
          "name": "stdout",
          "text": [
            "Enter a string: habiba\n",
            "Result: ['a', 'a', 'b', 'i', 'b', 'h']\n",
            "Result: aabibh\n"
          ]
        }
      ]
    },
    {
      "cell_type": "markdown",
      "id": "25f89808",
      "metadata": {
        "id": "25f89808"
      },
      "source": [
        "**6-Write a Python program to remove characters that have odd index values in a given string (Sample String:abca Expected Result:ac)"
      ]
    },
    {
      "cell_type": "code",
      "execution_count": null,
      "id": "05959bd7",
      "metadata": {
        "id": "05959bd7",
        "colab": {
          "base_uri": "https://localhost:8080/"
        },
        "outputId": "f2cc038c-7e53-4ac2-ae48-a306fd498aaf"
      },
      "outputs": [
        {
          "output_type": "stream",
          "name": "stdout",
          "text": [
            "Enter a string: habiba\n",
            "Result: hbb\n"
          ]
        }
      ],
      "source": [
        "text = input(\"Enter a string: \")\n",
        "result = text[::2]\n",
        "print(\"Result:\", result)"
      ]
    },
    {
      "cell_type": "markdown",
      "id": "eb16e898",
      "metadata": {
        "id": "eb16e898"
      },
      "source": [
        "**7-Write a Python program to count the occurrences of each word in a given sentence (Sample String:amr and ahmed are frindes but amr is the tallest Expected Result:2)"
      ]
    },
    {
      "cell_type": "code",
      "execution_count": null,
      "id": "01ce6cf5",
      "metadata": {
        "id": "01ce6cf5",
        "colab": {
          "base_uri": "https://localhost:8080/"
        },
        "outputId": "ebbcc392-137a-4f73-8a8a-75a1f44c2f7d"
      },
      "outputs": [
        {
          "output_type": "stream",
          "name": "stdout",
          "text": [
            "Enter a sentence: python is great and python is fun\n",
            "'python': 2\n",
            "'is': 2\n",
            "'great': 1\n",
            "'and': 1\n",
            "'fun': 1\n"
          ]
        }
      ],
      "source": [
        "sentence = input(\"Enter a sentence: \")\n",
        "words = sentence.split()\n",
        "word_count = {}\n",
        "for word in words:\n",
        "    if word in word_count:\n",
        "        word_count[word] += 1\n",
        "    else:\n",
        "        word_count[word] = 1\n",
        "for word, count in word_count.items():\n",
        "    print(f\"'{word}': {count}\")\n"
      ]
    },
    {
      "cell_type": "markdown",
      "id": "4e8125f1",
      "metadata": {
        "id": "4e8125f1"
      },
      "source": [
        "**8-Write a Python script that takes input from the user and displays that input back in upper and lower cases"
      ]
    },
    {
      "cell_type": "code",
      "execution_count": null,
      "id": "66c8f778",
      "metadata": {
        "id": "66c8f778",
        "colab": {
          "base_uri": "https://localhost:8080/"
        },
        "outputId": "a0048d39-fc3c-43b0-e7a9-0439e79a5d5e"
      },
      "outputs": [
        {
          "output_type": "stream",
          "name": "stdout",
          "text": [
            "Enter a string: HabibA\n",
            "Upper case: HABIBA\n",
            "Lower case: habiba\n"
          ]
        }
      ],
      "source": [
        "text = input(\"Enter a string: \")\n",
        "print(\"Upper case:\", text.upper())\n",
        "print(\"Lower case:\", text.lower())"
      ]
    },
    {
      "cell_type": "markdown",
      "id": "fcd68aa1",
      "metadata": {
        "id": "fcd68aa1"
      },
      "source": [
        "**9-Write a Python function to reverse a string if its length is a multiple of 4"
      ]
    },
    {
      "cell_type": "code",
      "execution_count": null,
      "id": "0671a931",
      "metadata": {
        "id": "0671a931",
        "colab": {
          "base_uri": "https://localhost:8080/"
        },
        "outputId": "80cefb22-6c32-404c-8784-6836910d5bc9"
      },
      "outputs": [
        {
          "output_type": "stream",
          "name": "stdout",
          "text": [
            "Enter a string: roma\n",
            "Result: amor\n"
          ]
        }
      ],
      "source": [
        "def reverse_if_multiple_of_4(text):\n",
        "    if len(text) % 4 == 0:\n",
        "        return text[::-1]\n",
        "    return text\n",
        "text = input(\"Enter a string: \")\n",
        "result = reverse_if_multiple_of_4(text)\n",
        "print(\"Result:\", result)"
      ]
    },
    {
      "cell_type": "markdown",
      "id": "b577c68d",
      "metadata": {
        "id": "b577c68d"
      },
      "source": [
        "**10- Write a Python program to remove a newline in Python"
      ]
    },
    {
      "cell_type": "code",
      "execution_count": null,
      "id": "e0c6525a",
      "metadata": {
        "id": "e0c6525a",
        "colab": {
          "base_uri": "https://localhost:8080/"
        },
        "outputId": "819d1416-831a-428d-9908-d6bcf814b73f"
      },
      "outputs": [
        {
          "output_type": "stream",
          "name": "stdout",
          "text": [
            "habiba\n",
            "medhat \n",
            "habiba medhat \n"
          ]
        }
      ],
      "source": [
        "text =(\"habiba\\nmedhat \")\n",
        "print(text)\n",
        "text = text.replace(\"\\n\", \" \")\n",
        "print( text)"
      ]
    },
    {
      "cell_type": "markdown",
      "id": "80db5ae0",
      "metadata": {
        "id": "80db5ae0"
      },
      "source": [
        "**11-Write a Python program to check whether a string starts with specified characters"
      ]
    },
    {
      "cell_type": "code",
      "execution_count": null,
      "id": "0cc4e03e",
      "metadata": {
        "id": "0cc4e03e",
        "colab": {
          "base_uri": "https://localhost:8080/"
        },
        "outputId": "5bde56b9-ff77-4d7a-b5f4-d002b16af563"
      },
      "outputs": [
        {
          "output_type": "stream",
          "name": "stdout",
          "text": [
            "Enter a string: habiba medhat \n",
            "Enter the strat to check: biba\n",
            "The string does not start with 'biba'.\n"
          ]
        }
      ],
      "source": [
        "text = input(\"Enter a string: \")\n",
        "strat = input(\"Enter the strat to check: \")\n",
        "if text.startswith(strat):\n",
        "    print(f\"The string starts with '{strat}'.\")\n",
        "else:\n",
        "    print(f\"The string does not start with '{strat}'.\")"
      ]
    },
    {
      "cell_type": "markdown",
      "id": "593a68db",
      "metadata": {
        "id": "593a68db"
      },
      "source": [
        "**12- Write a Python program to add prefix text to all of the lines in a string"
      ]
    },
    {
      "cell_type": "code",
      "execution_count": null,
      "id": "d2e46ada",
      "metadata": {
        "id": "d2e46ada",
        "colab": {
          "base_uri": "https://localhost:8080/"
        },
        "outputId": "d7864d0e-8c5a-4025-b420-026679476947"
      },
      "outputs": [
        {
          "output_type": "stream",
          "name": "stdout",
          "text": [
            "Enter a string with multiple lines: medhat mohamed\n",
            "Enter the prefix to add: biba\n",
            "Modified Text:\n",
            " bibamedhat mohamed\n"
          ]
        }
      ],
      "source": [
        "text = input(\"Enter a string with multiple lines: \")\n",
        "prefix = input(\"Enter the prefix to add: \")\n",
        "lines = text.split('\\n')\n",
        "modified_lines = [prefix + line for line in lines]\n",
        "result = '\\n'.join(modified_lines)\n",
        "print(\"Modified Text:\\n\", result)"
      ]
    },
    {
      "cell_type": "markdown",
      "id": "86fa1543",
      "metadata": {
        "id": "86fa1543"
      },
      "source": [
        "**13-Write a Python program to print the following numbers up to 2 decimal places"
      ]
    },
    {
      "cell_type": "code",
      "execution_count": null,
      "id": "cd4a9d89",
      "metadata": {
        "id": "cd4a9d89",
        "colab": {
          "base_uri": "https://localhost:8080/"
        },
        "outputId": "9792dca7-bb1c-465c-b941-bc7622216c18"
      },
      "outputs": [
        {
          "output_type": "stream",
          "name": "stdout",
          "text": [
            "Enter numbers separated by spaces: 3.15982\n",
            "3.16\n"
          ]
        }
      ],
      "source": [
        "numbers = input(\"Enter numbers separated by spaces: \").split()\n",
        "for num in numbers:\n",
        "    num = float(num)\n",
        "    num = round(num, 2)\n",
        "print(num)"
      ]
    },
    {
      "cell_type": "markdown",
      "id": "452c0ab0",
      "metadata": {
        "id": "452c0ab0"
      },
      "source": [
        "**14-Write a Python program to print the following numbers up to 2 decimal places with a sign"
      ]
    },
    {
      "cell_type": "code",
      "execution_count": null,
      "id": "73e82479",
      "metadata": {
        "id": "73e82479",
        "colab": {
          "base_uri": "https://localhost:8080/"
        },
        "outputId": "36696bbf-af0a-47bd-b523-3ab2352e866e"
      },
      "outputs": [
        {
          "output_type": "stream",
          "name": "stdout",
          "text": [
            "Enter a number: 3.1658\n",
            "+3.17\n"
          ]
        }
      ],
      "source": [
        "number = float(input(\"Enter a number: \"))\n",
        "number = round(number, 2)\n",
        "if number >= 0:\n",
        "    print(\"+\" + str(number))\n",
        "else:\n",
        "    print(str(number))"
      ]
    },
    {
      "cell_type": "markdown",
      "id": "32b1811a",
      "metadata": {
        "id": "32b1811a"
      },
      "source": [
        "**15-Write a Python program to display a number with a comma separator"
      ]
    },
    {
      "cell_type": "code",
      "execution_count": 1,
      "id": "f30fc0b6",
      "metadata": {
        "id": "f30fc0b6",
        "colab": {
          "base_uri": "https://localhost:8080/"
        },
        "outputId": "9b617683-eeca-418d-d31f-43706b88eafd"
      },
      "outputs": [
        {
          "output_type": "stream",
          "name": "stdout",
          "text": [
            "Enter a number: 123456789\n",
            "Formatted Number: 123,456,789\n"
          ]
        }
      ],
      "source": [
        "number = int(input(\"Enter a number: \"))\n",
        "number_with_commas = \"{:,}\".format(number)\n",
        "print(\"Formatted Number:\", number_with_commas)\n"
      ]
    },
    {
      "cell_type": "markdown",
      "id": "0477f487",
      "metadata": {
        "id": "0477f487"
      },
      "source": [
        "**16-Write a Python program to reverse a string using 2 ways"
      ]
    },
    {
      "cell_type": "code",
      "execution_count": null,
      "id": "aa8beec8",
      "metadata": {
        "id": "aa8beec8",
        "colab": {
          "base_uri": "https://localhost:8080/"
        },
        "outputId": "90530ab2-3595-4c31-ca5c-d27ebf2ad2cd"
      },
      "outputs": [
        {
          "output_type": "stream",
          "name": "stdout",
          "text": [
            "Enter a string: habiba medhat\n",
            "Reversed string: tahdem abibah\n"
          ]
        }
      ],
      "source": [
        "text = input(\"Enter a string: \")\n",
        "reversed_text = text[::-1]\n",
        "print(\"Reversed string:\", reversed_text)"
      ]
    },
    {
      "cell_type": "code",
      "source": [
        "text = input(\"Enter a string: \")\n",
        "text_list = list(text)\n",
        "text_list.reverse()\n",
        "reversed_text = ''.join(text_list)\n",
        "print(\"Reversed string:\", reversed_text)"
      ],
      "metadata": {
        "colab": {
          "base_uri": "https://localhost:8080/"
        },
        "id": "TN0N_E80PgqW",
        "outputId": "dc567c17-3dc7-478d-c2e9-9bdb74675b6f"
      },
      "id": "TN0N_E80PgqW",
      "execution_count": null,
      "outputs": [
        {
          "output_type": "stream",
          "name": "stdout",
          "text": [
            "Enter a string: habiba medhat\n",
            "Reversed string: tahdem abibah\n"
          ]
        }
      ]
    },
    {
      "cell_type": "markdown",
      "id": "5afc3166",
      "metadata": {
        "id": "5afc3166"
      },
      "source": [
        " **17-Write a Python program to count repeated characters in a string (hint:use dictionary)"
      ]
    },
    {
      "cell_type": "code",
      "source": [
        "text = input(\"Enter a string: \")\n",
        "char_count = {}\n",
        "for char in text:\n",
        "    if char in char_count:\n",
        "        char_count[char] += 1\n",
        "    else:\n",
        "        char_count[char] = 1\n",
        "for char, count in char_count.items():\n",
        "    if count > 1:\n",
        "        print(\"Character '\" + char + \"' is repeated \" + str(count) + \" times.\")\n"
      ],
      "metadata": {
        "colab": {
          "base_uri": "https://localhost:8080/"
        },
        "id": "eHyNqhcfPcUC",
        "outputId": "852b4d05-d1a4-4f18-aca0-757d5d93957e"
      },
      "id": "eHyNqhcfPcUC",
      "execution_count": null,
      "outputs": [
        {
          "output_type": "stream",
          "name": "stdout",
          "text": [
            "Enter a string: hhabiiba\n",
            "Character 'h' is repeated 2 times.\n",
            "Character 'a' is repeated 2 times.\n",
            "Character 'b' is repeated 2 times.\n",
            "Character 'i' is repeated 2 times.\n"
          ]
        }
      ]
    },
    {
      "cell_type": "markdown",
      "id": "ae14e4e5",
      "metadata": {
        "id": "ae14e4e5"
      },
      "source": [
        "**18-Write a Python program to find the first non-repeating character in a given string"
      ]
    },
    {
      "cell_type": "code",
      "source": [
        "text = \"habibamedhat\"\n",
        "char_count = {}\n",
        "for char in text:\n",
        "    if char in char_count:\n",
        "        char_count[char] += 1\n",
        "    else:\n",
        "        char_count[char] = 1\n",
        "\n",
        "for char in text:\n",
        "    if char_count[char] == 1:\n",
        "        print(\"First non-repeating character:\", char)\n",
        "        break"
      ],
      "metadata": {
        "colab": {
          "base_uri": "https://localhost:8080/"
        },
        "id": "9zYImLqfVy8R",
        "outputId": "bbc73dd8-b523-4c02-9083-60053a81e3fe"
      },
      "id": "9zYImLqfVy8R",
      "execution_count": null,
      "outputs": [
        {
          "output_type": "stream",
          "name": "stdout",
          "text": [
            "First non-repeating character: i\n"
          ]
        }
      ]
    },
    {
      "cell_type": "code",
      "execution_count": null,
      "id": "d73778e5",
      "metadata": {
        "id": "d73778e5",
        "colab": {
          "base_uri": "https://localhost:8080/"
        },
        "outputId": "6e5a78e5-01d2-408a-d8eb-a1746dfd23dd"
      },
      "outputs": [
        {
          "output_type": "stream",
          "name": "stdout",
          "text": [
            "Non-repeating character: i\n",
            "Non-repeating character: m\n",
            "Non-repeating character: e\n",
            "Non-repeating character: d\n",
            "Non-repeating character: t\n"
          ]
        }
      ],
      "source": [
        "text = \"habibamedhat\"\n",
        "char_count = {}\n",
        "for char in text:\n",
        "    if char in char_count:\n",
        "        char_count[char] += 1\n",
        "    else:\n",
        "        char_count[char] = 1\n",
        "\n",
        "for char in text:\n",
        "    if char_count[char] == 1:\n",
        "        print(\"Non-repeating character:\", char)\n"
      ]
    },
    {
      "cell_type": "markdown",
      "id": "3adf5669",
      "metadata": {
        "id": "3adf5669"
      },
      "source": [
        "**19-Write a Python program to remove spaces from a given string"
      ]
    },
    {
      "cell_type": "code",
      "execution_count": null,
      "id": "b4f22602",
      "metadata": {
        "id": "b4f22602",
        "colab": {
          "base_uri": "https://localhost:8080/"
        },
        "outputId": "ba4f6af8-1b19-43e6-f40e-7dd4e4be79dd"
      },
      "outputs": [
        {
          "output_type": "stream",
          "name": "stdout",
          "text": [
            "Enter a string: habiba medhat mohamed\n",
            "String without spaces: habibamedhatmohamed\n"
          ]
        }
      ],
      "source": [
        "text = input(\"Enter a string: \")\n",
        "text_without_spaces = text.replace(\" \", \"\")\n",
        "print(\"String without spaces:\", text_without_spaces)"
      ]
    },
    {
      "cell_type": "markdown",
      "id": "734de60c",
      "metadata": {
        "id": "734de60c"
      },
      "source": [
        "**20-Write a Python program to count the number of non-empty substrings of a given string"
      ]
    },
    {
      "cell_type": "code",
      "execution_count": null,
      "id": "ef3f2274",
      "metadata": {
        "id": "ef3f2274",
        "colab": {
          "base_uri": "https://localhost:8080/"
        },
        "outputId": "8c817e97-977b-4b45-e21b-e747eb595738"
      },
      "outputs": [
        {
          "output_type": "stream",
          "name": "stdout",
          "text": [
            "Enter a string: habiba\n",
            "Number of non-empty substrings: 21\n"
          ]
        }
      ],
      "source": [
        "text = input(\"Enter a string: \")\n",
        "count_substrings = 0\n",
        "for i in range(len(text)):\n",
        "    for j in range(i + 1, len(text) + 1):\n",
        "        count_substrings += 1\n",
        "print(\"Number of non-empty substrings:\", count_substrings)"
      ]
    },
    {
      "cell_type": "markdown",
      "source": [
        "21-write a Python program to swap first and last element of any list."
      ],
      "metadata": {
        "id": "EeXgCcI-eYLD"
      },
      "id": "EeXgCcI-eYLD"
    },
    {
      "cell_type": "code",
      "execution_count": null,
      "id": "68692d7f",
      "metadata": {
        "id": "68692d7f",
        "colab": {
          "base_uri": "https://localhost:8080/"
        },
        "outputId": "9770129d-0820-490c-d7b1-4d0ac86cf8d7"
      },
      "outputs": [
        {
          "output_type": "stream",
          "name": "stdout",
          "text": [
            "Enter a list of elements (separated by space): 1 5 8 7 6 \n",
            "List after swapping first and last elements: ['6', '5', '8', '7', '1']\n"
          ]
        }
      ],
      "source": [
        "my_list = input(\"Enter a list of elements (separated by space): \").split()\n",
        "if len(my_list) > 1:\n",
        "    my_list[0], my_list[-1] = my_list[-1], my_list[0]\n",
        "print(\"List after swapping first and last elements:\", my_list)"
      ]
    },
    {
      "cell_type": "markdown",
      "id": "959e0837",
      "metadata": {
        "id": "959e0837"
      },
      "source": [
        "**22-Given a list in Python and provided the positions of the elements, write a program to swap the two elements in the list. (Input : List = [23, 65, 19, 90], pos1 = 1, pos2 = 3\n",
        "Output : [19, 65, 23, 90])"
      ]
    },
    {
      "cell_type": "code",
      "execution_count": null,
      "id": "225d8c6d",
      "metadata": {
        "id": "225d8c6d",
        "colab": {
          "base_uri": "https://localhost:8080/"
        },
        "outputId": "c35abb48-6970-4c33-fc30-fe8c6a20381e"
      },
      "outputs": [
        {
          "output_type": "stream",
          "name": "stdout",
          "text": [
            "Enter the position of the first element (pos1): 1\n",
            "Enter the position of the second element (pos2): 3\n",
            "List after swapping: [23, 90, 19, 65]\n"
          ]
        }
      ],
      "source": [
        "my_list = [23, 65, 19, 90]\n",
        "pos1 = int(input(\"Enter the position of the first element (pos1): \"))\n",
        "pos2 = int(input(\"Enter the position of the second element (pos2): \"))\n",
        "my_list[pos1], my_list[pos2] = my_list[pos2], my_list[pos1]\n",
        "print(\"List after swapping:\", my_list)"
      ]
    },
    {
      "cell_type": "markdown",
      "id": "66fc6682",
      "metadata": {
        "id": "66fc6682"
      },
      "source": [
        "**23- search for the all ways to know the length of the list"
      ]
    },
    {
      "cell_type": "code",
      "source": [
        "my_list = [1, 2, 3, 4, 5]\n",
        "length = len(my_list)\n",
        "print(length)\n"
      ],
      "metadata": {
        "id": "UES5O5o8gHaW",
        "colab": {
          "base_uri": "https://localhost:8080/"
        },
        "outputId": "c1a39528-6d0c-4290-f93e-7cbd7f61eaba"
      },
      "id": "UES5O5o8gHaW",
      "execution_count": 3,
      "outputs": [
        {
          "output_type": "stream",
          "name": "stdout",
          "text": [
            "5\n"
          ]
        }
      ]
    },
    {
      "cell_type": "code",
      "source": [
        "my_list = [1, 2, 3, 4, 5]\n",
        "count = 0\n",
        "for _ in my_list:\n",
        "    count += 1\n",
        "print(count)\n"
      ],
      "metadata": {
        "colab": {
          "base_uri": "https://localhost:8080/"
        },
        "id": "reoUkQNAVjI0",
        "outputId": "c4183e6c-2e6c-4645-d58c-b425ed34a6af"
      },
      "id": "reoUkQNAVjI0",
      "execution_count": 4,
      "outputs": [
        {
          "output_type": "stream",
          "name": "stdout",
          "text": [
            "5\n"
          ]
        }
      ]
    },
    {
      "cell_type": "code",
      "source": [
        "my_list = [1, 2, 3, 4, 5]\n",
        "length = sum(1 for _ in my_list)\n",
        "print(length)\n"
      ],
      "metadata": {
        "colab": {
          "base_uri": "https://localhost:8080/"
        },
        "id": "PLQQFCXLVjWG",
        "outputId": "789763e9-6b36-4cca-e22d-37f6c2c8e0f6"
      },
      "id": "PLQQFCXLVjWG",
      "execution_count": 5,
      "outputs": [
        {
          "output_type": "stream",
          "name": "stdout",
          "text": [
            "5\n"
          ]
        }
      ]
    },
    {
      "cell_type": "code",
      "source": [
        "my_list = [1, 2, 3, 4, 5]\n",
        "count = 0\n",
        "while my_list:\n",
        "    my_list.pop()\n",
        "    count += 1\n",
        "print(count)"
      ],
      "metadata": {
        "colab": {
          "base_uri": "https://localhost:8080/"
        },
        "id": "OyKY57pzVjjn",
        "outputId": "c84d02e3-8911-4ed7-995e-df610df1cfd9"
      },
      "id": "OyKY57pzVjjn",
      "execution_count": 6,
      "outputs": [
        {
          "output_type": "stream",
          "name": "stdout",
          "text": [
            "5\n"
          ]
        }
      ]
    },
    {
      "cell_type": "markdown",
      "source": [
        "24-write a Python code to find the Maximum number of list of numbers."
      ],
      "metadata": {
        "id": "DZCrQzKuiUd8"
      },
      "id": "DZCrQzKuiUd8"
    },
    {
      "cell_type": "code",
      "execution_count": null,
      "id": "15f342de",
      "metadata": {
        "id": "15f342de",
        "colab": {
          "base_uri": "https://localhost:8080/"
        },
        "outputId": "c6f231a8-78d9-4d9b-e435-88f77bc25423"
      },
      "outputs": [
        {
          "output_type": "stream",
          "name": "stdout",
          "text": [
            "The maximum number is: 89\n"
          ]
        }
      ],
      "source": [
        "my_list = [23, 45, 12, 78, 56, 89, 34]\n",
        "max_num = max(my_list)\n",
        "print(\"The maximum number is:\", max_num)"
      ]
    },
    {
      "cell_type": "markdown",
      "source": [
        "25-write a Python code to find the Minimum number of list of numbers."
      ],
      "metadata": {
        "id": "AlQ7yPu_igoa"
      },
      "id": "AlQ7yPu_igoa"
    },
    {
      "cell_type": "code",
      "execution_count": null,
      "id": "21f8cbd6",
      "metadata": {
        "id": "21f8cbd6",
        "colab": {
          "base_uri": "https://localhost:8080/"
        },
        "outputId": "8e67f8f5-5d3a-4611-b0da-f7db9f29f020"
      },
      "outputs": [
        {
          "output_type": "stream",
          "name": "stdout",
          "text": [
            "The minimum number is: 12\n"
          ]
        }
      ],
      "source": [
        "my_list = [23, 45, 12, 78, 56, 89, 34]\n",
        "min_num = min(my_list)\n",
        "print(\"The minimum number is:\", min_num)"
      ]
    },
    {
      "cell_type": "markdown",
      "id": "96822d96",
      "metadata": {
        "id": "96822d96"
      },
      "source": [
        "**26-search for if an elem is existing in list"
      ]
    },
    {
      "cell_type": "code",
      "execution_count": null,
      "id": "51ca5c9a",
      "metadata": {
        "id": "51ca5c9a",
        "colab": {
          "base_uri": "https://localhost:8080/"
        },
        "outputId": "44ba940f-8f6d-4ad8-d3a4-29913a527dde"
      },
      "outputs": [
        {
          "output_type": "stream",
          "name": "stdout",
          "text": [
            "Enter the element to search for: 78\n",
            "The element 78 is found in the list.\n"
          ]
        }
      ],
      "source": [
        "my_list = [23, 45, 12, 78, 56, 89, 34]\n",
        "element = int(input(\"Enter the element to search for: \"))\n",
        "if element in my_list:\n",
        "    print(\"The element\", element, \"is found in the list.\")\n",
        "else:\n",
        "    print(\"The element\", element, \"is not found in the list.\")"
      ]
    },
    {
      "cell_type": "markdown",
      "id": "d9557da7",
      "metadata": {
        "id": "d9557da7"
      },
      "source": [
        "**27- clear python list using different ways"
      ]
    },
    {
      "cell_type": "code",
      "execution_count": null,
      "id": "b69858a3",
      "metadata": {
        "id": "b69858a3",
        "colab": {
          "base_uri": "https://localhost:8080/"
        },
        "outputId": "314f7895-6796-4dad-b44b-dcd6a2a668ba"
      },
      "outputs": [
        {
          "output_type": "stream",
          "name": "stdout",
          "text": [
            "[]\n"
          ]
        }
      ],
      "source": [
        "my_list = [23, 45, 12, 78, 56]\n",
        "while my_list:\n",
        "    my_list.pop()\n",
        "print(my_list)"
      ]
    },
    {
      "cell_type": "markdown",
      "id": "52160e88",
      "metadata": {
        "id": "52160e88"
      },
      "source": [
        "**28-remove duplicated elements from a list"
      ]
    },
    {
      "cell_type": "code",
      "execution_count": null,
      "id": "5e362228",
      "metadata": {
        "id": "5e362228",
        "colab": {
          "base_uri": "https://localhost:8080/"
        },
        "outputId": "6c8ef59e-8619-46f2-97d4-a94afec1dd9f"
      },
      "outputs": [
        {
          "output_type": "stream",
          "name": "stdout",
          "text": [
            "[23, 45, 12, 78, 56]\n"
          ]
        }
      ],
      "source": [
        "my_list = [23, 45, 12, 78, 56, 45, 23]\n",
        "new_list = []\n",
        "for item in my_list:\n",
        "    if item not in new_list:\n",
        "        new_list.append(item)\n",
        "print(new_list)"
      ]
    },
    {
      "cell_type": "markdown",
      "id": "282337f7",
      "metadata": {
        "id": "282337f7"
      },
      "source": [
        "**29-Given list values and keys list, convert these values to key value pairs in form of list of dictionaries. (Input : test_list = [“Gfg”, 3, “is”, 8], key_list = [“name”, “id”]\n",
        "Output : [{‘name’: ‘Gfg’, ‘id’: 3}, {‘name’: ‘is’, ‘id’: 8}])"
      ]
    },
    {
      "cell_type": "code",
      "execution_count": null,
      "id": "4d4e2d28",
      "metadata": {
        "id": "4d4e2d28",
        "colab": {
          "base_uri": "https://localhost:8080/"
        },
        "outputId": "31f6efbe-d327-41a1-d660-ff68985a7a8c"
      },
      "outputs": [
        {
          "output_type": "stream",
          "name": "stdout",
          "text": [
            "[{'name': 'Gfg', 'id': 3}, {'name': 'is', 'id': 8}]\n"
          ]
        }
      ],
      "source": [
        "test_list = [\"Gfg\", 3, \"is\", 8]\n",
        "key_list = [\"name\", \"id\"]\n",
        "res = [dict(zip(key_list, test_list[i:i+2]))\n",
        "for i in range(0, len(test_list), 2)]\n",
        "print(res)\n"
      ]
    },
    {
      "cell_type": "markdown",
      "id": "c26b6e9f",
      "metadata": {
        "id": "c26b6e9f"
      },
      "source": [
        "**30-write a python program to count unique values inside a list using different ways"
      ]
    },
    {
      "cell_type": "code",
      "execution_count": null,
      "id": "72132667",
      "metadata": {
        "id": "72132667",
        "colab": {
          "base_uri": "https://localhost:8080/"
        },
        "outputId": "d5922840-3ea4-4c8e-9f87-e70f39ba2399"
      },
      "outputs": [
        {
          "output_type": "stream",
          "name": "stdout",
          "text": [
            "[1, 2, 4, 8]\n",
            "4\n"
          ]
        }
      ],
      "source": [
        "test_list = [1, 2, 3, 3, 4, 5, 5, 8]\n",
        "unique_values = [x for x in test_list if test_list.count(x) == 1]\n",
        "print(unique_values)\n",
        "print(len(unique_values))\n",
        "# هنا بيعد كام عنصر من غير تكرار"
      ]
    },
    {
      "cell_type": "code",
      "source": [
        "test_list = [1, 2, 2, 3, 4, 4, 5, 8]\n",
        "unique_values = [x for x in test_list if test_list.count(x) == 1]\n",
        "print(unique_values)\n",
        "print(len(unique_values))\n",
        " # هنا بيشوف عدد العناصر اللي مش متكرره"
      ],
      "metadata": {
        "colab": {
          "base_uri": "https://localhost:8080/"
        },
        "id": "K4oacMdHwo8i",
        "outputId": "4f902a72-f70c-4c5e-8dce-12066ff7071f"
      },
      "id": "K4oacMdHwo8i",
      "execution_count": null,
      "outputs": [
        {
          "output_type": "stream",
          "name": "stdout",
          "text": [
            "[1, 3, 5, 8]\n",
            "4\n"
          ]
        }
      ]
    },
    {
      "cell_type": "markdown",
      "id": "fed6677c",
      "metadata": {
        "id": "fed6677c"
      },
      "source": [
        "**31-write a python program Extract all elements with Frequency greater than K (Input : test_list = [4, 6, 4, 3, 3, 4, 3, 4, 3, 8], K = 3\n",
        "Output : [4, 3] )"
      ]
    },
    {
      "cell_type": "code",
      "execution_count": null,
      "id": "d81f3f9d",
      "metadata": {
        "id": "d81f3f9d",
        "colab": {
          "base_uri": "https://localhost:8080/"
        },
        "outputId": "d72f494b-d33f-4306-b3c2-838a1d5d3711"
      },
      "outputs": [
        {
          "output_type": "stream",
          "name": "stdout",
          "text": [
            "[3, 4]\n"
          ]
        }
      ],
      "source": [
        "test_list = [4, 6, 4, 3, 3, 4, 3, 4, 3, 8]\n",
        "K = 3\n",
        "test_list.sort()\n",
        "result = []\n",
        "count = 1\n",
        "for i in range(1, len(test_list)):\n",
        "    if test_list[i] == test_list[i-1]:\n",
        "        count += 1\n",
        "    else:\n",
        "        if count > K:\n",
        "            result.append(test_list[i-1])\n",
        "        count = 1\n",
        "if count > K:\n",
        "    result.append(test_list[-1])\n",
        "print(result)"
      ]
    },
    {
      "cell_type": "markdown",
      "id": "caca5224",
      "metadata": {
        "id": "caca5224"
      },
      "source": [
        "**32-write a python program to find the Strongest Neighbour (Input: 1 2 2 3 4 5\n",
        "Output: 2 2 3 4 5)"
      ]
    },
    {
      "cell_type": "code",
      "execution_count": null,
      "id": "39fbd9b2",
      "metadata": {
        "id": "39fbd9b2",
        "colab": {
          "base_uri": "https://localhost:8080/"
        },
        "outputId": "0c2fbbac-ed3f-48fd-865d-8a68b0d5b42e"
      },
      "outputs": [
        {
          "output_type": "stream",
          "name": "stdout",
          "text": [
            "[2, 2, 3, 4, 5]\n"
          ]
        }
      ],
      "source": [
        "test_list = [1, 2, 2, 3, 4, 5]\n",
        "result = []\n",
        "for i in range(len(test_list) - 1):\n",
        "    result.append(max(test_list[i], test_list[i+1]))\n",
        "print(result)"
      ]
    },
    {
      "cell_type": "markdown",
      "id": "a9fa8baf",
      "metadata": {
        "id": "a9fa8baf"
      },
      "source": [
        "**33-write a Python Program to print all Possible Combinations from the three Digits (Input: [1, 2, 3]\n",
        "Output:\n",
        "1 2 3 ##\n",
        "1 3 2 ##\n",
        "2 1 3 ##\n",
        "2 3 1 ##\n",
        "3 1 2 ##\n",
        "3 2 1)"
      ]
    },
    {
      "cell_type": "code",
      "execution_count": null,
      "id": "8c520a76",
      "metadata": {
        "id": "8c520a76",
        "colab": {
          "base_uri": "https://localhost:8080/"
        },
        "outputId": "02d8d7a1-6ff4-4fc5-a5f1-aa99142a5def"
      },
      "outputs": [
        {
          "output_type": "stream",
          "name": "stdout",
          "text": [
            "1 2 3\n",
            "1 3 2\n",
            "2 1 3\n",
            "2 3 1\n",
            "3 1 2\n",
            "3 2 1\n"
          ]
        }
      ],
      "source": [
        "test_list = [1, 2, 3]\n",
        "for i in test_list:\n",
        "    for j in test_list:\n",
        "        if j != i:\n",
        "            for k in test_list:\n",
        "                if k != i and k != j:\n",
        "                    print(i, j, k)"
      ]
    },
    {
      "cell_type": "markdown",
      "id": "5288bb89",
      "metadata": {
        "id": "5288bb89"
      },
      "source": [
        "**34-write a Python program to find all the Combinations in the list with the given condition (Input: test_list = [1,2,3]\n",
        "Output:\n",
        " [1], [1, 2], [1, 2, 3], [1, 3]\n",
        " [2], [2, 3], [3])"
      ]
    },
    {
      "cell_type": "code",
      "execution_count": null,
      "id": "59b89646",
      "metadata": {
        "id": "59b89646",
        "colab": {
          "base_uri": "https://localhost:8080/"
        },
        "outputId": "0624a5fe-c337-4698-af74-3d204b56a6b3"
      },
      "outputs": [
        {
          "output_type": "stream",
          "name": "stdout",
          "text": [
            "[[1], [1, 2], [1, 2, 3], [2], [2, 3], [3]]\n"
          ]
        }
      ],
      "source": [
        "test_list = [1, 2, 3]\n",
        "result = []\n",
        "for i in range(len(test_list)):\n",
        "    for j in range(i+1, len(test_list)+1):\n",
        "        result.append(test_list[i:j])\n",
        "print(result)"
      ]
    },
    {
      "cell_type": "markdown",
      "id": "39973705",
      "metadata": {
        "id": "39973705"
      },
      "source": [
        "**35-write a Python program to get all unique combinations of two Lists (List_1 = [\"a\",\"b\"]\n",
        "List_2 = [1,2]\n",
        "Unique_combination = [[('a',1),('b',2)],[('a',2),('b',1)]] )"
      ]
    },
    {
      "cell_type": "code",
      "execution_count": null,
      "id": "8c4ba22b",
      "metadata": {
        "id": "8c4ba22b",
        "colab": {
          "base_uri": "https://localhost:8080/"
        },
        "outputId": "bbdfacdb-fc11-498d-d609-479881833a79"
      },
      "outputs": [
        {
          "output_type": "stream",
          "name": "stdout",
          "text": [
            "[[('a', 1), ('b', 2)], [('a', 2), ('b', 1)]]\n"
          ]
        }
      ],
      "source": [
        "List_1 = [\"a\", \"b\"]\n",
        "List_2 = [1, 2]\n",
        "Unique_combination = []\n",
        "for i in List_1:\n",
        "    for j in List_2:\n",
        "        pair_1 = (i, j)\n",
        "        pair_2 = (List_1[1 - List_1.index(i)], List_2[1 - List_2.index(j)])\n",
        "        if [pair_1, pair_2] not in Unique_combination and [pair_2, pair_1] not in Unique_combination:\n",
        "            Unique_combination.append([pair_1, pair_2])\n",
        "print(Unique_combination)"
      ]
    },
    {
      "cell_type": "markdown",
      "id": "25199af5",
      "metadata": {
        "id": "25199af5"
      },
      "source": [
        "**36-Remove all the occurrences of an element from a list in Python (Input : 1 1 2 3 4 5 1 2 1\n",
        "\n",
        "**Output : 2 3 4 5 2)"
      ]
    },
    {
      "cell_type": "code",
      "execution_count": null,
      "id": "6dc4c2ba",
      "metadata": {
        "id": "6dc4c2ba",
        "colab": {
          "base_uri": "https://localhost:8080/"
        },
        "outputId": "3219b849-edbb-4f02-b0bd-b4bb2d2b26f9"
      },
      "outputs": [
        {
          "output_type": "stream",
          "name": "stdout",
          "text": [
            "[2, 3, 4, 5, 2]\n"
          ]
        }
      ],
      "source": [
        "test_list = [1, 1, 2, 3, 4, 5, 1, 2, 1]\n",
        "element_to_remove = 1\n",
        "result = []\n",
        "for item in test_list:\n",
        "    if item != element_to_remove:\n",
        "        result.append(item)\n",
        "print(result)"
      ]
    },
    {
      "cell_type": "markdown",
      "id": "bf1a3c93",
      "metadata": {
        "id": "bf1a3c93"
      },
      "source": [
        "**37-write a python program to Replace index elements with elements in Other List (The original list 1 is : [‘Gfg’, ‘is’, ‘best’] The original list 2 is : [0, 1, 2, 1, 0, 0, 0, 2, 1, 1, 2, 0] The lists after index elements replacements is : [‘Gfg’, ‘is’, ‘best’, ‘is’, ‘Gfg’, ‘Gfg’, ‘Gfg’, ‘best’, ‘is’, ‘is’, ‘best’, ‘Gfg’])"
      ]
    },
    {
      "cell_type": "code",
      "execution_count": null,
      "id": "fdd66a71",
      "metadata": {
        "id": "fdd66a71",
        "colab": {
          "base_uri": "https://localhost:8080/"
        },
        "outputId": "62a69656-0f42-44c5-8eca-0640ff21d8b2"
      },
      "outputs": [
        {
          "output_type": "stream",
          "name": "stdout",
          "text": [
            "The lists after index elements replacements is: ['Gfg', 'is', 'best', 'is', 'Gfg', 'Gfg', 'Gfg', 'best', 'is', 'is', 'best', 'Gfg']\n"
          ]
        }
      ],
      "source": [
        "List_1 = ['Gfg', 'is', 'best']\n",
        "List_2 = [0, 1, 2, 1, 0, 0, 0, 2, 1, 1, 2, 0]\n",
        "result = [List_1[i] for i in List_2]\n",
        "print(\"The lists after index elements replacements is:\", result)"
      ]
    },
    {
      "cell_type": "markdown",
      "id": "af0f56e8",
      "metadata": {
        "id": "af0f56e8"
      },
      "source": [
        "**38- write python program to Retain records with N occurrences of K(Input : test_list = [(4, 5, 5, 4), (5, 4, 3)], K = 5, N = 2\n",
        "Output : [(4, 5, 5, 4)]\n",
        "Input : test_list = [(4, 5, 5, 4), (5, 4, 3)], K = 5, N = 3\n",
        "Output : [] )"
      ]
    },
    {
      "cell_type": "code",
      "execution_count": 7,
      "id": "67b06671",
      "metadata": {
        "id": "67b06671",
        "colab": {
          "base_uri": "https://localhost:8080/"
        },
        "outputId": "d0f8fb90-3d10-476a-e976-a246a6c15b7a"
      },
      "outputs": [
        {
          "output_type": "stream",
          "name": "stdout",
          "text": [
            "Enter the number of tuples: 2\n",
            "Enter tuple 1 (comma-separated): 4,5,5,4\n",
            "Enter tuple 2 (comma-separated): 5,4,3\n",
            "Enter the number to search for (K): 5\n",
            "Enter the required occurrences (N): 2\n",
            "Filtered List: [(4, 5, 5, 4)]\n"
          ]
        }
      ],
      "source": [
        "test_list = []\n",
        "n = int(input(\"Enter the number of tuples: \"))\n",
        "\n",
        "for i in range(n):\n",
        "    user_input = input(f\"Enter tuple {i+1} (comma-separated): \")\n",
        "    user_tuple = tuple(int(x) for x in user_input.split(','))\n",
        "    test_list.append(user_tuple)\n",
        "\n",
        "K = int(input(\"Enter the number to search for (K): \"))\n",
        "N = int(input(\"Enter the required occurrences (N): \"))\n",
        "\n",
        "filtered_list = []\n",
        "for tup in test_list:\n",
        "    if tup.count(K) == N:\n",
        "        filtered_list.append(tup)\n",
        "\n",
        "print(\"Filtered List:\", filtered_list)\n"
      ]
    },
    {
      "cell_type": "markdown",
      "id": "de76f183",
      "metadata": {
        "id": "de76f183"
      },
      "source": [
        "**39-write a Python Program to Sort the list according to the column using lambda\n",
        "array = [[1, 3, 3], [2, 1, 2], [3, 2, 1]]\n",
        "Output :\n",
        "Sorted array specific to column 0, [[1, 3, 3], [2, 1, 2], [3, 2, 1]]\n",
        "Sorted array specific to column 1, [[2, 1, 2], [3, 2, 1], [1, 3, 3]]\n",
        "Sorted array specific to column 2, [[3, 2, 1], [2, 1, 2], [1, 3, 3]]"
      ]
    },
    {
      "cell_type": "code",
      "execution_count": 8,
      "id": "dc883308",
      "metadata": {
        "id": "dc883308",
        "colab": {
          "base_uri": "https://localhost:8080/"
        },
        "outputId": "c106358e-9184-4669-9c4b-d0cd71062095"
      },
      "outputs": [
        {
          "output_type": "stream",
          "name": "stdout",
          "text": [
            "Sorted array specific to column 0: [[1, 3, 3], [2, 1, 2], [3, 2, 1]]\n",
            "Sorted array specific to column 1: [[2, 1, 2], [3, 2, 1], [1, 3, 3]]\n",
            "Sorted array specific to column 2: [[3, 2, 1], [2, 1, 2], [1, 3, 3]]\n"
          ]
        }
      ],
      "source": [
        "array = [[1, 3, 3], [2, 1, 2], [3, 2, 1]]\n",
        "\n",
        "sorted_by_column_0 = sorted(array, key=lambda x: x[0])\n",
        "sorted_by_column_1 = sorted(array, key=lambda x: x[1])\n",
        "sorted_by_column_2 = sorted(array, key=lambda x: x[2])\n",
        "\n",
        "print(\"Sorted array specific to column 0:\", sorted_by_column_0)\n",
        "print(\"Sorted array specific to column 1:\", sorted_by_column_1)\n",
        "print(\"Sorted array specific to column 2:\", sorted_by_column_2)\n"
      ]
    },
    {
      "cell_type": "markdown",
      "source": [
        "**40- write a program to Sort Python Dictionaries by Key or Value\n",
        "Input:\n",
        "{'ravi': 10, 'rajnish': 9, 'sanjeev': 15, 'yash': 2, 'suraj': 32}\n",
        "\n",
        "Output:\n",
        "{'rajnish': 9, 'ravi': 10, 'sanjeev': 15, 'suraj': 32, 'yash': 2}"
      ],
      "metadata": {
        "id": "mJu4N0VO4vtv"
      },
      "id": "mJu4N0VO4vtv"
    },
    {
      "cell_type": "code",
      "execution_count": 10,
      "id": "a96db4a0",
      "metadata": {
        "id": "a96db4a0",
        "colab": {
          "base_uri": "https://localhost:8080/"
        },
        "outputId": "c6280cf0-102b-49cc-e09a-d388db3b18a8"
      },
      "outputs": [
        {
          "output_type": "stream",
          "name": "stdout",
          "text": [
            "Enter the number of entries in the dictionary: 5\n",
            "Enter key 1: ravi\n",
            "Enter value for ravi: 10\n",
            "Enter key 2: rajnish\n",
            "Enter value for rajnish: 9\n",
            "Enter key 3: sanjeev\n",
            "Enter value for sanjeev: 15\n",
            "Enter key 4: yash\n",
            "Enter value for yash: 2\n",
            "Enter key 5: suraj\n",
            "Enter value for suraj: 32\n",
            "Sorted dictionary by key: {'rajnish': 9, 'ravi': 10, 'sanjeev': 15, 'suraj': 32, 'yash': 2}\n"
          ]
        }
      ],
      "source": [
        "n = int(input(\"Enter the number of entries in the dictionary: \"))\n",
        "data = {}\n",
        "\n",
        "for i in range(n):\n",
        "    key = input(f\"Enter key {i+1}: \")\n",
        "    value = int(input(f\"Enter value for {key}: \"))\n",
        "    data[key] = value\n",
        "\n",
        "sorted_dict = dict(sorted(data.items()))\n",
        "\n",
        "print(\"Sorted dictionary by key:\", sorted_dict)\n"
      ]
    },
    {
      "cell_type": "markdown",
      "id": "ec63c23a",
      "metadata": {
        "id": "ec63c23a"
      },
      "source": [
        "**41-write python program to Remove keys with Values Greater than K ( Including mixed values )\n",
        "nput : test_dict = {‘Gfg’ : 3, ‘is’ : 7, ‘best’ : 10, ‘for’ : 6, ‘geeks’ : ‘CS’},\n",
        "K = 7\n",
        "Output : {‘Gfg’ : 3, ‘for’ : 6, ‘geeks’ : ‘CS’}"
      ]
    },
    {
      "cell_type": "code",
      "execution_count": 14,
      "id": "e39c3a40",
      "metadata": {
        "id": "e39c3a40",
        "colab": {
          "base_uri": "https://localhost:8080/"
        },
        "outputId": "21606965-ebdd-49db-ee6e-c2d5ae29bf77"
      },
      "outputs": [
        {
          "output_type": "stream",
          "name": "stdout",
          "text": [
            "Enter the number of entries in the dictionary: 5\n",
            "Enter key: Gfg\n",
            "Enter value: 3\n",
            "Enter key: is\n",
            "Enter value: 7\n",
            "Enter key: best\n",
            "Enter value: 10\n",
            "Enter key: for\n",
            "Enter value: 6\n",
            "Enter key: geeks\n",
            "Enter value: CS\n",
            "Enter the value of K: 7\n",
            "{'Gfg': 3, 'is': 7, 'for': 6, 'geeks': 'CS'}\n"
          ]
        }
      ],
      "source": [
        "test_dict = {}\n",
        "n = int(input(\"Enter the number of entries in the dictionary: \"))\n",
        "\n",
        "for _ in range(n):\n",
        "    key = input(\"Enter key: \")\n",
        "    value = input(\"Enter value: \")\n",
        "    if value.isdigit():\n",
        "        value = int(value)\n",
        "    test_dict[key] = value\n",
        "\n",
        "K = int(input(\"Enter the value of K: \"))\n",
        "\n",
        "keys_to_remove = []\n",
        "\n",
        "for key in test_dict:\n",
        "    if isinstance(test_dict[key], int) and test_dict[key] > K:\n",
        "        keys_to_remove.append(key)\n",
        "\n",
        "for key in keys_to_remove:\n",
        "    test_dict.pop(key)\n",
        "\n",
        "print(test_dict)\n"
      ]
    },
    {
      "cell_type": "markdown",
      "id": "f143f0fe",
      "metadata": {
        "id": "f143f0fe"
      },
      "source": [
        "**42-Write a Python program to concatenate the following dictionaries to create a new one\n",
        "\n",
        "Sample Dictionary :\n",
        "dic1={1:10, 2:20}\n",
        "dic2={3:30, 4:40}\n",
        "dic3={5:50,6:60}\n",
        "Expected Result : {1: 10, 2: 20, 3: 30, 4: 40, 5: 50, 6: 60}"
      ]
    },
    {
      "cell_type": "code",
      "execution_count": 15,
      "id": "74ffdfea",
      "metadata": {
        "id": "74ffdfea",
        "colab": {
          "base_uri": "https://localhost:8080/"
        },
        "outputId": "b1f80722-ac74-4792-fc18-e69df618a782"
      },
      "outputs": [
        {
          "output_type": "stream",
          "name": "stdout",
          "text": [
            "{1: 10, 2: 20, 3: 30, 4: 40, 5: 50, 6: 60}\n"
          ]
        }
      ],
      "source": [
        "dic1 = {1: 10, 2: 20}\n",
        "dic2 = {3: 30, 4: 40}\n",
        "dic3 = {5: 50, 6: 60}\n",
        "\n",
        "merged_dict = {}\n",
        "for d in (dic1, dic2, dic3):\n",
        "    merged_dict.update(d)\n",
        "\n",
        "print(merged_dict)"
      ]
    },
    {
      "cell_type": "markdown",
      "id": "fb04c93c",
      "metadata": {
        "id": "fb04c93c"
      },
      "source": [
        "**43-Write a Python program to iterate over dictionaries using for loops"
      ]
    },
    {
      "cell_type": "code",
      "execution_count": null,
      "id": "6aebc470",
      "metadata": {
        "id": "6aebc470",
        "colab": {
          "base_uri": "https://localhost:8080/"
        },
        "outputId": "db8e2e7e-70a9-4a39-a77a-c69cb011f800"
      },
      "outputs": [
        {
          "output_type": "stream",
          "name": "stdout",
          "text": [
            "a\n",
            "b\n",
            "c\n",
            "d\n",
            "                       \n",
            "1\n",
            "2\n",
            "3\n",
            "4\n",
            "                       \n",
            "a 1\n",
            "b 2\n",
            "c 3\n",
            "d 4\n"
          ]
        }
      ],
      "source": [
        "my_dict = {'a': 1, 'b': 2, 'c': 3, 'd': 4}\n",
        "for key in my_dict:\n",
        "    print(key)\n",
        "print(\"                       \")\n",
        "for value in my_dict.values():\n",
        "    print(value)\n",
        "print(\"                       \")\n",
        "for key, value in my_dict.items():\n",
        "      print(key, value)"
      ]
    },
    {
      "cell_type": "markdown",
      "id": "5f491a9d",
      "metadata": {
        "id": "5f491a9d"
      },
      "source": [
        "**44- Write a Python script to merge two Python dictionaries"
      ]
    },
    {
      "cell_type": "code",
      "execution_count": null,
      "id": "b8a14028",
      "metadata": {
        "id": "b8a14028",
        "colab": {
          "base_uri": "https://localhost:8080/"
        },
        "outputId": "2ca210e4-06aa-421f-bf9d-ace5a295fe5b"
      },
      "outputs": [
        {
          "output_type": "stream",
          "name": "stdout",
          "text": [
            "{'a': 1, 'b': 2, 'c': 3, 'd': 4}\n"
          ]
        }
      ],
      "source": [
        "dict1 = {'a': 1, 'b': 2}\n",
        "dict2 = {'c': 3, 'd': 4}\n",
        "merged_dict = dict1.copy()\n",
        "for key, value in dict2.items():\n",
        "    merged_dict[key] = value\n",
        "print(merged_dict)"
      ]
    },
    {
      "cell_type": "markdown",
      "id": "216fc72d",
      "metadata": {
        "id": "216fc72d"
      },
      "source": [
        "**45-Write a Python program to get the maximum and minimum values of a dictionary values"
      ]
    },
    {
      "cell_type": "code",
      "execution_count": null,
      "id": "d6883f5f",
      "metadata": {
        "id": "d6883f5f",
        "colab": {
          "base_uri": "https://localhost:8080/"
        },
        "outputId": "ecdb69f7-d2c3-4aad-a3c9-e0f44a40afec"
      },
      "outputs": [
        {
          "output_type": "stream",
          "name": "stdout",
          "text": [
            "Maximum value: 30\n",
            "Minimum value: 4\n"
          ]
        }
      ],
      "source": [
        "my_dict = {'a': 10, 'b': 20, 'c': 4, 'd': 30}\n",
        "max_value = max(my_dict.values())\n",
        "min_value = min(my_dict.values())\n",
        "print(\"Maximum value:\", max_value)\n",
        "print(\"Minimum value:\", min_value)"
      ]
    },
    {
      "cell_type": "markdown",
      "id": "b6a53011",
      "metadata": {
        "id": "b6a53011"
      },
      "source": [
        "**46- Write a Python program to drop empty items from a given dictionary.\n",
        "Original Dictionary:\n",
        "{'c1': 'Red', 'c2': 'Green', 'c3': None}\n",
        "New Dictionary after dropping empty items:\n",
        "{'c1': 'Red', 'c2': 'Green'}"
      ]
    },
    {
      "cell_type": "code",
      "execution_count": null,
      "id": "b5c6fecf",
      "metadata": {
        "id": "b5c6fecf",
        "colab": {
          "base_uri": "https://localhost:8080/"
        },
        "outputId": "d2707527-6236-47e9-f149-5956d3b9dcf2"
      },
      "outputs": [
        {
          "output_type": "stream",
          "name": "stdout",
          "text": [
            "New Dictionary after dropping empty items: {'c1': 'Red', 'c2': 'Green'}\n"
          ]
        }
      ],
      "source": [
        "original_dict = {'c1': 'Red', 'c2': 'Green', 'c3': None}\n",
        "new_dict = {}\n",
        "for key in original_dict:\n",
        "    if original_dict[key] is not None:\n",
        "        new_dict[key] = original_dict[key]\n",
        "print(\"New Dictionary after dropping empty items:\", new_dict)"
      ]
    },
    {
      "cell_type": "markdown",
      "id": "46d718c7",
      "metadata": {
        "id": "46d718c7"
      },
      "source": [
        "**47-Write a Python program to create a tuple of numbers and print one item"
      ]
    },
    {
      "cell_type": "code",
      "execution_count": null,
      "id": "13216ff5",
      "metadata": {
        "id": "13216ff5",
        "colab": {
          "base_uri": "https://localhost:8080/"
        },
        "outputId": "274e7db4-b4d9-4b13-fa55-0bcb765538b1"
      },
      "outputs": [
        {
          "output_type": "stream",
          "name": "stdout",
          "text": [
            "30\n"
          ]
        }
      ],
      "source": [
        "numbers = (10, 20, 30, 40, 50)\n",
        "print(numbers[2])"
      ]
    },
    {
      "cell_type": "markdown",
      "id": "2be5b56b",
      "metadata": {
        "id": "2be5b56b"
      },
      "source": [
        "**48-Write a Python program to unpack a tuple into several variables"
      ]
    },
    {
      "cell_type": "code",
      "execution_count": null,
      "id": "595f44be",
      "metadata": {
        "id": "595f44be",
        "colab": {
          "base_uri": "https://localhost:8080/"
        },
        "outputId": "11fb1987-833e-4da8-dec4-e7f53ce023fe"
      },
      "outputs": [
        {
          "output_type": "stream",
          "name": "stdout",
          "text": [
            "10\n",
            "20\n",
            "30\n"
          ]
        }
      ],
      "source": [
        "tuple = (10, 20, 30)\n",
        "a, b, c = tuple\n",
        "print(a)\n",
        "print(b)\n",
        "print(c)\n"
      ]
    },
    {
      "cell_type": "markdown",
      "id": "392388a7",
      "metadata": {
        "id": "392388a7"
      },
      "source": [
        "**49-Write a Python program to add an item to a tuple"
      ]
    },
    {
      "cell_type": "code",
      "execution_count": null,
      "id": "54cc092e",
      "metadata": {
        "id": "54cc092e",
        "colab": {
          "base_uri": "https://localhost:8080/"
        },
        "outputId": "a9fc8cef-d0df-47b4-c549-564913f07ffe"
      },
      "outputs": [
        {
          "output_type": "stream",
          "name": "stdout",
          "text": [
            "(1, 2, 3, 4)\n"
          ]
        }
      ],
      "source": [
        "my_tuple = (1, 2, 3)\n",
        "new_item = 4\n",
        "my_tuple = my_tuple + (new_item,)\n",
        "print(my_tuple)"
      ]
    },
    {
      "cell_type": "markdown",
      "id": "3e8fd124",
      "metadata": {
        "id": "3e8fd124"
      },
      "source": [
        "**50-Write a Python program to convert a tuple to a string"
      ]
    },
    {
      "cell_type": "code",
      "execution_count": null,
      "id": "92a71ddc",
      "metadata": {
        "id": "92a71ddc",
        "colab": {
          "base_uri": "https://localhost:8080/"
        },
        "outputId": "02f4f426-6a3f-4410-de76-cba277c50827"
      },
      "outputs": [
        {
          "output_type": "stream",
          "name": "stdout",
          "text": [
            "habiba\n"
          ]
        }
      ],
      "source": [
        "my_tuple = ('h', 'a', 'b', 'i', 'b', 'a')\n",
        "result = \"\"\n",
        "for char in my_tuple:\n",
        "    result += char\n",
        "print(result)"
      ]
    },
    {
      "cell_type": "markdown",
      "id": "f4f64ef4",
      "metadata": {
        "id": "f4f64ef4"
      },
      "source": [
        "**51-Write a Python program to convert a list to a tuple"
      ]
    },
    {
      "cell_type": "code",
      "execution_count": 19,
      "id": "210d56d3",
      "metadata": {
        "id": "210d56d3",
        "colab": {
          "base_uri": "https://localhost:8080/"
        },
        "outputId": "049bef76-5d99-4b6c-d5d1-08246ed75df4"
      },
      "outputs": [
        {
          "output_type": "stream",
          "name": "stdout",
          "text": [
            "Enter list elements separated by spaces: 1 5 4 7 1\n",
            "('1', '5', '4', '7', '1')\n"
          ]
        }
      ],
      "source": [
        "my_list = input(\"Enter list elements separated by spaces: \").split()\n",
        "my_tuple = tuple(my_list)\n",
        "print(my_tuple)\n"
      ]
    },
    {
      "cell_type": "markdown",
      "id": "b1e00ef7",
      "metadata": {
        "id": "b1e00ef7"
      },
      "source": [
        "**52-Write a Python program to reverse a tuple"
      ]
    },
    {
      "cell_type": "code",
      "execution_count": 20,
      "id": "f45bfdc7",
      "metadata": {
        "id": "f45bfdc7",
        "colab": {
          "base_uri": "https://localhost:8080/"
        },
        "outputId": "39fc8b20-db6a-49b8-830a-49926d8a1068"
      },
      "outputs": [
        {
          "output_type": "stream",
          "name": "stdout",
          "text": [
            "Enter tuple elements separated by spaces: a b c d \n",
            "('d', 'c', 'b', 'a')\n"
          ]
        }
      ],
      "source": [
        "user_input = input(\"Enter tuple elements separated by spaces: \").split()\n",
        "original_tuple = tuple(user_input)\n",
        "reversed_tuple = original_tuple[::-1]\n",
        "print(reversed_tuple)\n"
      ]
    },
    {
      "cell_type": "markdown",
      "id": "3cd347d1",
      "metadata": {
        "id": "3cd347d1"
      },
      "source": [
        "**53-Write a Python program to replace the last value of tuples in a list.\n",
        "Sample list: [(10, 20, 40), (40, 50, 60), (70, 80, 90)]\n",
        "Expected Output: [(10, 20, 100), (40, 50, 100), (70, 80, 100)]"
      ]
    },
    {
      "cell_type": "code",
      "execution_count": 24,
      "id": "3c4a2a4c",
      "metadata": {
        "id": "3c4a2a4c",
        "colab": {
          "base_uri": "https://localhost:8080/"
        },
        "outputId": "0e87d653-0ee6-4ccb-e433-efa58dfc3739"
      },
      "outputs": [
        {
          "output_type": "stream",
          "name": "stdout",
          "text": [
            "Enter number of tuples: 3\n",
            "Enter elements of tuple 1 (space-separated): 10 20 30 \n",
            "Enter elements of tuple 2 (space-separated): 40 50 60 \n",
            "Enter elements of tuple 3 (space-separated): 70 80 90 \n",
            "Enter the new value to replace the last element in each tuple: 100\n",
            "[(10, 20, 100), (40, 50, 100), (70, 80, 100)]\n"
          ]
        }
      ],
      "source": [
        "sample_list = []\n",
        "n = int(input(\"Enter number of tuples: \"))\n",
        "\n",
        "for i in range(n):\n",
        "    items = input(f\"Enter elements of tuple {i+1} (space-separated): \").split()\n",
        "    t = tuple(int(x) for x in items)\n",
        "    sample_list.append(t)\n",
        "\n",
        "new_value = int(input(\"Enter the new value to replace the last element in each tuple: \"))\n",
        "\n",
        "updated_list = []\n",
        "for t in sample_list:\n",
        "    updated_tuple = t[:-1] + (new_value,)\n",
        "    updated_list.append(updated_tuple)\n",
        "\n",
        "print(updated_list)\n"
      ]
    },
    {
      "cell_type": "markdown",
      "id": "76bb7b39",
      "metadata": {
        "id": "76bb7b39"
      },
      "source": [
        "**54-Write a Python program to convert a given string list to a tuple\n",
        "Original string: python 3.0\n",
        "<class 'str'>\n",
        "Convert the said string to a tuple:\n",
        "('p', 'y', 't', 'h', 'o', 'n', '3', '.', '0')"
      ]
    },
    {
      "cell_type": "code",
      "execution_count": 25,
      "id": "51951937",
      "metadata": {
        "id": "51951937",
        "colab": {
          "base_uri": "https://localhost:8080/"
        },
        "outputId": "b5c12e1d-7769-48e2-e2ea-8309b1cd9694"
      },
      "outputs": [
        {
          "output_type": "stream",
          "name": "stdout",
          "text": [
            "Enter a string: habiba\n",
            "Original string: habiba\n",
            "Converted to tuple: ('h', 'a', 'b', 'i', 'b', 'a')\n"
          ]
        }
      ],
      "source": [
        "original_string = input(\"Enter a string: \")\n",
        "\n",
        "string_tuple = tuple(original_string)\n",
        "\n",
        "print(\"Original string:\", original_string)\n",
        "print(\"Converted to tuple:\", string_tuple)"
      ]
    },
    {
      "cell_type": "markdown",
      "id": "5a1d5d97",
      "metadata": {
        "id": "5a1d5d97"
      },
      "source": [
        "**55-Write a Python program to calculate the average value of the numbers in a given tuple of tuples"
      ]
    },
    {
      "cell_type": "code",
      "execution_count": 26,
      "id": "834e7992",
      "metadata": {
        "id": "834e7992",
        "colab": {
          "base_uri": "https://localhost:8080/"
        },
        "outputId": "3899264d-5ce0-4c26-9d41-6369bcd195bf"
      },
      "outputs": [
        {
          "output_type": "stream",
          "name": "stdout",
          "text": [
            "Average value: 50.0\n"
          ]
        }
      ],
      "source": [
        "tuple_of_tuples = ((10, 20, 30), (40, 50, 60), (70, 80, 90))\n",
        "\n",
        "all_numbers = []\n",
        "\n",
        "for tup in tuple_of_tuples:\n",
        "    for num in tup:\n",
        "        all_numbers.append(num)\n",
        "\n",
        "average = sum(all_numbers) / len(all_numbers)\n",
        "\n",
        "print(\"Average value:\", average)\n"
      ]
    },
    {
      "cell_type": "markdown",
      "id": "51edab9c",
      "metadata": {
        "id": "51edab9c"
      },
      "source": [
        "**56-Write a Python program to add member(s) to a set."
      ]
    },
    {
      "cell_type": "code",
      "execution_count": 27,
      "id": "2b65df79",
      "metadata": {
        "id": "2b65df79",
        "colab": {
          "base_uri": "https://localhost:8080/"
        },
        "outputId": "fa810d6b-f0a6-4ead-e701-16047ab8f746"
      },
      "outputs": [
        {
          "output_type": "stream",
          "name": "stdout",
          "text": [
            "Updated Set: {1, 2, 3, 4, 5, 6, 7, 8}\n"
          ]
        }
      ],
      "source": [
        "my_set = {1, 2, 3, 4}\n",
        "my_set.add(5)\n",
        "my_set.update([6, 7, 8])\n",
        "print(\"Updated Set:\", my_set)"
      ]
    },
    {
      "cell_type": "markdown",
      "id": "965590cc",
      "metadata": {
        "id": "965590cc"
      },
      "source": [
        "**57-Write a Python program to remove an item from a set if it is present in the set."
      ]
    },
    {
      "cell_type": "code",
      "execution_count": 28,
      "id": "866bab28",
      "metadata": {
        "id": "866bab28",
        "colab": {
          "base_uri": "https://localhost:8080/"
        },
        "outputId": "4b11b715-dc98-468c-fcb2-bf9dd95e59ef"
      },
      "outputs": [
        {
          "output_type": "stream",
          "name": "stdout",
          "text": [
            "Updated Set: {1, 2, 4, 5}\n"
          ]
        }
      ],
      "source": [
        "my_set = {1, 2, 3, 4, 5}\n",
        "item = 3\n",
        "\n",
        "if item in my_set:\n",
        "    my_set.remove(item)\n",
        "\n",
        "print(\"Updated Set:\", my_set)"
      ]
    },
    {
      "cell_type": "markdown",
      "id": "2b7cfed1",
      "metadata": {
        "id": "2b7cfed1"
      },
      "source": [
        "**58-Write a Python program to create an intersection,union,difference and symmetric difference of sets"
      ]
    },
    {
      "cell_type": "code",
      "execution_count": 29,
      "id": "7f94b7fe",
      "metadata": {
        "id": "7f94b7fe",
        "colab": {
          "base_uri": "https://localhost:8080/"
        },
        "outputId": "a9c7bd8a-97cf-4b45-82b3-2cc4ac634e93"
      },
      "outputs": [
        {
          "output_type": "stream",
          "name": "stdout",
          "text": [
            "Intersection: {4, 5}\n",
            "Union: {1, 2, 3, 4, 5, 6, 7, 8}\n",
            "Difference: {1, 2, 3}\n",
            "Symmetric Difference: {1, 2, 3, 6, 7, 8}\n"
          ]
        }
      ],
      "source": [
        "set1 = {1, 2, 3, 4, 5}\n",
        "set2 = {4, 5, 6, 7, 8}\n",
        "\n",
        "intersection = set1 & set2\n",
        "union = set1 | set2\n",
        "difference = set1 - set2\n",
        "symmetric_difference = set1 ^ set2\n",
        "\n",
        "print(\"Intersection:\", intersection)\n",
        "print(\"Union:\", union)\n",
        "print(\"Difference:\", difference)\n",
        "print(\"Symmetric Difference:\", symmetric_difference)\n"
      ]
    },
    {
      "cell_type": "markdown",
      "id": "b94931e2",
      "metadata": {
        "id": "b94931e2"
      },
      "source": [
        "**59-Write a Python program to find the maximum and minimum values in a set"
      ]
    },
    {
      "cell_type": "code",
      "execution_count": 30,
      "id": "203f9600",
      "metadata": {
        "id": "203f9600",
        "colab": {
          "base_uri": "https://localhost:8080/"
        },
        "outputId": "cfe72ad8-79e5-4b44-84c8-60cdfb29b36d"
      },
      "outputs": [
        {
          "output_type": "stream",
          "name": "stdout",
          "text": [
            "Maximum Value: 50\n",
            "Minimum Value: 10\n"
          ]
        }
      ],
      "source": [
        "my_set = {10, 20, 30, 40, 50}\n",
        "\n",
        "max_value = max(my_set)\n",
        "min_value = min(my_set)\n",
        "\n",
        "print(\"Maximum Value:\", max_value)\n",
        "print(\"Minimum Value:\", min_value)\n"
      ]
    },
    {
      "cell_type": "markdown",
      "id": "255fd554",
      "metadata": {
        "id": "255fd554"
      },
      "source": [
        "**60- Write a Python program that finds all pairs of elements in a list whose sum is equal to a given value."
      ]
    },
    {
      "cell_type": "code",
      "execution_count": 31,
      "id": "c2d94e1f",
      "metadata": {
        "id": "c2d94e1f",
        "colab": {
          "base_uri": "https://localhost:8080/"
        },
        "outputId": "189175dd-ed79-4f0f-88f8-32b9aaea25dd"
      },
      "outputs": [
        {
          "output_type": "stream",
          "name": "stdout",
          "text": [
            "Enter the target sum: 50\n",
            "Pairs with the given sum: [(10, 40), (20, 30)]\n"
          ]
        }
      ],
      "source": [
        "my_list = [10, 20, 30, 40, 50]\n",
        "target_sum = int(input(\"Enter the target sum: \"))\n",
        "\n",
        "pairs = []\n",
        "\n",
        "for i in range(len(my_list)):\n",
        "    for j in range(i+1, len(my_list)):\n",
        "        if my_list[i] + my_list[j] == target_sum:\n",
        "            pairs.append((my_list[i], my_list[j]))\n",
        "\n",
        "print(\"Pairs with the given sum:\", pairs)"
      ]
    },
    {
      "cell_type": "code",
      "source": [
        "\n"
      ],
      "metadata": {
        "id": "LTyD0z70PSUT"
      },
      "id": "LTyD0z70PSUT",
      "execution_count": null,
      "outputs": []
    }
  ],
  "metadata": {
    "kernelspec": {
      "display_name": "Python 3 (ipykernel)",
      "language": "python",
      "name": "python3"
    },
    "language_info": {
      "codemirror_mode": {
        "name": "ipython",
        "version": 3
      },
      "file_extension": ".py",
      "mimetype": "text/x-python",
      "name": "python",
      "nbconvert_exporter": "python",
      "pygments_lexer": "ipython3",
      "version": "3.9.7"
    },
    "colab": {
      "provenance": [],
      "include_colab_link": true
    }
  },
  "nbformat": 4,
  "nbformat_minor": 5
}