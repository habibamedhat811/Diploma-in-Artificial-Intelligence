{
  "cells": [
    {
      "cell_type": "markdown",
      "metadata": {
        "id": "view-in-github",
        "colab_type": "text"
      },
      "source": [
        "<a href=\"https://colab.research.google.com/github/habibamedhat811/Diploma-in-Artificial-Intelligence/blob/main/Copy_of_task_3.ipynb\" target=\"_parent\"><img src=\"https://colab.research.google.com/assets/colab-badge.svg\" alt=\"Open In Colab\"/></a>"
      ]
    },
    {
      "cell_type": "markdown",
      "id": "ff38aad7",
      "metadata": {
        "id": "ff38aad7"
      },
      "source": [
        "### 1-Write a Python program that takes two numbers as user input and performs addition on them."
      ]
    },
    {
      "cell_type": "code",
      "execution_count": 1,
      "id": "91696b79",
      "metadata": {
        "id": "91696b79",
        "colab": {
          "base_uri": "https://localhost:8080/"
        },
        "outputId": "76ed851f-95c3-4854-9424-dfb3934645fe"
      },
      "outputs": [
        {
          "output_type": "stream",
          "name": "stdout",
          "text": [
            "Enter the first number: 8\n",
            "Enter the second number: 9\n",
            "The sum of 8 and 9 is 17\n"
          ]
        }
      ],
      "source": [
        "num1 = int(input(\"Enter the first number: \"))\n",
        "num2 = int(input(\"Enter the second number: \"))\n",
        "result = num1 + num2\n",
        "print(f\"The sum of {num1} and {num2} is {result}\")\n"
      ]
    },
    {
      "cell_type": "markdown",
      "id": "360854ff",
      "metadata": {
        "id": "360854ff"
      },
      "source": [
        "### 2-Write a Python program that takes an integer as input and checks if it is even or odd. Print \"Even\" if the number is divisible by 2, otherwise print \"Odd\"."
      ]
    },
    {
      "cell_type": "code",
      "execution_count": 2,
      "id": "ee4c35fe",
      "metadata": {
        "ExecuteTime": {
          "end_time": "2023-07-23T21:35:24.351946Z",
          "start_time": "2023-07-23T21:35:23.287212Z"
        },
        "id": "ee4c35fe",
        "colab": {
          "base_uri": "https://localhost:8080/"
        },
        "outputId": "dcd9aa91-8b5a-48f1-9ad5-6aee8f0e3e66"
      },
      "outputs": [
        {
          "output_type": "stream",
          "name": "stdout",
          "text": [
            "Enter an integer: 45\n",
            "Odd\n"
          ]
        }
      ],
      "source": [
        "num = int(input(\"Enter an integer: \"))\n",
        "if num % 2 == 0:\n",
        "    print(\"Even\")\n",
        "else:\n",
        "    print(\"Odd\")"
      ]
    },
    {
      "cell_type": "markdown",
      "id": "6ea0354c",
      "metadata": {
        "id": "6ea0354c"
      },
      "source": [
        "### 3-Write a Python program that prints all the even numbers from 1 to 20 using a for loop"
      ]
    },
    {
      "cell_type": "code",
      "execution_count": 4,
      "id": "df43b7f5",
      "metadata": {
        "ExecuteTime": {
          "end_time": "2023-07-23T21:36:51.373589Z",
          "start_time": "2023-07-23T21:36:51.365580Z"
        },
        "id": "df43b7f5",
        "colab": {
          "base_uri": "https://localhost:8080/"
        },
        "outputId": "6ed6b2bf-354c-4d8f-bbc1-6847f9a7bca1"
      },
      "outputs": [
        {
          "output_type": "stream",
          "name": "stdout",
          "text": [
            "2\n",
            "4\n",
            "6\n",
            "8\n",
            "10\n",
            "12\n",
            "14\n",
            "16\n",
            "18\n",
            "20\n"
          ]
        }
      ],
      "source": [
        "for num in range(1, 21):\n",
        "    if num % 2 == 0:\n",
        "        print(num)"
      ]
    },
    {
      "cell_type": "code",
      "execution_count": null,
      "id": "cc16a5c2",
      "metadata": {
        "ExecuteTime": {
          "end_time": "2023-07-23T22:04:21.481350Z",
          "start_time": "2023-07-23T22:04:21.452242Z"
        },
        "id": "cc16a5c2"
      },
      "outputs": [],
      "source": []
    },
    {
      "cell_type": "code",
      "execution_count": null,
      "id": "7b7ee5e8",
      "metadata": {
        "id": "7b7ee5e8"
      },
      "outputs": [],
      "source": []
    },
    {
      "cell_type": "markdown",
      "id": "2d66bab2",
      "metadata": {
        "id": "2d66bab2"
      },
      "source": [
        "### 4-Write a Python function that takes a string as input and counts the number of vowels (a, e, i, o, u) in the string. The function should return the count"
      ]
    },
    {
      "cell_type": "code",
      "execution_count": 5,
      "id": "a37a84fd",
      "metadata": {
        "ExecuteTime": {
          "end_time": "2023-07-23T21:45:58.522044Z",
          "start_time": "2023-07-23T21:45:58.514370Z"
        },
        "id": "a37a84fd",
        "colab": {
          "base_uri": "https://localhost:8080/"
        },
        "outputId": "fcc7fc54-4eed-4c0c-8b18-cd5a454c031c"
      },
      "outputs": [
        {
          "output_type": "stream",
          "name": "stdout",
          "text": [
            "Enter a string: habiba medhat \n",
            "Number of vowels: 5\n"
          ]
        }
      ],
      "source": [
        "def count_vowels(s):\n",
        "    vowels = {'a', 'e', 'i', 'o', 'u', 'A', 'E', 'I', 'O', 'U'}\n",
        "    count = sum(1 for char in s if char in vowels)\n",
        "    return count\n",
        "string = input(\"Enter a string: \")\n",
        "print(\"Number of vowels:\", count_vowels(string))"
      ]
    },
    {
      "cell_type": "code",
      "execution_count": 7,
      "id": "2eb8e4de",
      "metadata": {
        "ExecuteTime": {
          "end_time": "2023-07-23T23:56:27.324204Z",
          "start_time": "2023-07-23T23:56:26.972092Z"
        },
        "id": "2eb8e4de",
        "colab": {
          "base_uri": "https://localhost:8080/"
        },
        "outputId": "ae72d648-6952-4dff-923f-7dbeb10bad5e"
      },
      "outputs": [
        {
          "output_type": "stream",
          "name": "stdout",
          "text": [
            "Enter a string:habiba medhat\n",
            "Number of vowels: 5\n"
          ]
        }
      ],
      "source": [
        "string = input(\"Enter a string:\")\n",
        "vowels = \"aeiouAEIOU\"\n",
        "count = sum(1 for char in string if char in vowels)\n",
        "print(\"Number of vowels:\",count)"
      ]
    },
    {
      "cell_type": "code",
      "execution_count": 7,
      "id": "24105679",
      "metadata": {
        "ExecuteTime": {
          "end_time": "2023-07-23T21:43:41.353283Z",
          "start_time": "2023-07-23T21:43:41.332496Z"
        },
        "id": "24105679"
      },
      "outputs": [],
      "source": []
    },
    {
      "cell_type": "markdown",
      "id": "a9a0ea06",
      "metadata": {
        "id": "a9a0ea06"
      },
      "source": [
        "### 5-Write a Python program that creates a list of numbers from 1 to 10. Use a loop to iterate over the list and print each number of power 2."
      ]
    },
    {
      "cell_type": "code",
      "execution_count": 8,
      "id": "6fa658cf",
      "metadata": {
        "ExecuteTime": {
          "end_time": "2023-07-23T21:48:02.328880Z",
          "start_time": "2023-07-23T21:48:02.314313Z"
        },
        "id": "6fa658cf",
        "colab": {
          "base_uri": "https://localhost:8080/"
        },
        "outputId": "371af430-f4ef-46ae-acb6-48cb36765865"
      },
      "outputs": [
        {
          "output_type": "stream",
          "name": "stdout",
          "text": [
            "1\n",
            "4\n",
            "9\n",
            "16\n",
            "25\n",
            "36\n",
            "49\n",
            "64\n",
            "81\n",
            "100\n"
          ]
        }
      ],
      "source": [
        "numbers = list(range(1, 11))\n",
        "for num in numbers:\n",
        "    print(num ** 2)"
      ]
    },
    {
      "cell_type": "code",
      "execution_count": null,
      "id": "f0e52d30",
      "metadata": {
        "ExecuteTime": {
          "end_time": "2023-07-15T16:20:03.747408Z",
          "start_time": "2023-07-15T16:20:03.740547Z"
        },
        "id": "f0e52d30"
      },
      "outputs": [],
      "source": []
    },
    {
      "cell_type": "markdown",
      "id": "430c9df9",
      "metadata": {
        "id": "430c9df9"
      },
      "source": [
        "### 6-Write a Python program that calculates the average grade for a student based on their scores in different subjects. The program should include the following steps:\n",
        "\n",
        "#### 1-Create variables to store the student's name, subject names, and corresponding scores. Initialize the variables with sample data.\n",
        "\n",
        "#### 2-Prompt the user to enter the student's name and assign it to the name variable.\n",
        "\n",
        "#### 3-Use a loop to prompt the user to enter the subject names and corresponding scores. Store the subject names in a list and the scores in another list.\n",
        "\n",
        "#### 4-After collecting the scores, calculate the average grade by summing up all the scores and dividing by the total number of subjects.\n",
        "\n",
        "#### 5-Check if the average grade is above a 70, print a congratulatory message. Otherwise, print an encouragement message."
      ]
    },
    {
      "cell_type": "code",
      "execution_count": 9,
      "id": "e0254271",
      "metadata": {
        "ExecuteTime": {
          "end_time": "2023-07-15T16:16:17.066909Z",
          "start_time": "2023-07-15T16:16:07.636799Z"
        },
        "id": "e0254271",
        "colab": {
          "base_uri": "https://localhost:8080/"
        },
        "outputId": "b4e34283-8175-480f-c040-a085f527f0e5"
      },
      "outputs": [
        {
          "output_type": "stream",
          "name": "stdout",
          "text": [
            "Enter the student's name: habiba\n",
            "Enter the number of subjects: 3\n",
            "Enter the name of subject 1: math\n",
            "Enter the score for math: 90\n",
            "Enter the name of subject 2: english \n",
            "Enter the score for english : 95\n",
            "Enter the name of subject 3: science\n",
            "Enter the score for science: 85\n",
            "\n",
            "Student: habiba\n",
            "Average Grade: 90.00\n",
            "Congratulations! You passed with a good grade.\n"
          ]
        }
      ],
      "source": [
        "student_name = input(\"Enter the student's name: \")\n",
        "num_subjects = int(input(\"Enter the number of subjects: \"))\n",
        "subjects = []\n",
        "scores = []\n",
        "for i in range(num_subjects):\n",
        "    subject = input(f\"Enter the name of subject {i + 1}: \")\n",
        "    score = float(input(f\"Enter the score for {subject}: \"))\n",
        "    subjects.append(subject)\n",
        "    scores.append(score)\n",
        "average_grade = sum(scores) / num_subjects\n",
        "print(f\"\\nStudent: {student_name}\")\n",
        "print(f\"Average Grade: {average_grade:.2f}\")\n",
        "if average_grade > 70:\n",
        "    print(\"Congratulations! You passed with a good grade.\")\n",
        "else:\n",
        "    print(\"Keep going! You can improve next time.\")"
      ]
    },
    {
      "cell_type": "code",
      "execution_count": null,
      "id": "37b3ff97",
      "metadata": {
        "ExecuteTime": {
          "end_time": "2023-07-23T21:56:24.493717Z",
          "start_time": "2023-07-23T21:56:17.227071Z"
        },
        "id": "37b3ff97"
      },
      "outputs": [],
      "source": []
    },
    {
      "cell_type": "markdown",
      "id": "ae9df360",
      "metadata": {
        "id": "ae9df360"
      },
      "source": [
        "### 7-Find Common Elements\n",
        "### Write a Python function that takes two lists as input and returns a new list containing the common elements present in both lists."
      ]
    },
    {
      "cell_type": "code",
      "execution_count": 12,
      "id": "d030c3c0",
      "metadata": {
        "ExecuteTime": {
          "end_time": "2023-07-23T22:08:16.794474Z",
          "start_time": "2023-07-23T22:08:16.775639Z"
        },
        "id": "d030c3c0",
        "colab": {
          "base_uri": "https://localhost:8080/"
        },
        "outputId": "b04f0565-ea18-4d96-ed22-11a60233971d"
      },
      "outputs": [
        {
          "output_type": "stream",
          "name": "stdout",
          "text": [
            "Common elements: [25, 45, 55]\n"
          ]
        }
      ],
      "source": [
        "def find_common_elements(list1, list2):\n",
        "    common_elements = list(set(list1) & set(list2))\n",
        "    return common_elements\n",
        "list1 = [15, 25, 35, 45, 55]\n",
        "list2 = [45, 55, 65, 75, 25]\n",
        "print(\"Common elements:\", find_common_elements(list1, list2))"
      ]
    },
    {
      "cell_type": "code",
      "execution_count": null,
      "id": "371369cd",
      "metadata": {
        "ExecuteTime": {
          "end_time": "2023-07-23T23:56:27.326200Z",
          "start_time": "2023-07-23T23:56:27.326200Z"
        },
        "id": "371369cd"
      },
      "outputs": [],
      "source": []
    },
    {
      "cell_type": "markdown",
      "id": "9a2f34cb",
      "metadata": {
        "id": "9a2f34cb"
      },
      "source": [
        "### 8-Write a Python function that takes a list of numbers and an element to remove from the list."
      ]
    },
    {
      "cell_type": "code",
      "execution_count": 15,
      "id": "78de9fe8",
      "metadata": {
        "ExecuteTime": {
          "end_time": "2023-07-23T22:21:36.514592Z",
          "start_time": "2023-07-23T22:21:36.505437Z"
        },
        "id": "78de9fe8",
        "colab": {
          "base_uri": "https://localhost:8080/"
        },
        "outputId": "74ce38a6-5be1-4f82-c16c-e05bcceb34e7"
      },
      "outputs": [
        {
          "output_type": "stream",
          "name": "stdout",
          "text": [
            "Updated list: [1, 8, 5, 9, 6]\n"
          ]
        }
      ],
      "source": [
        "def remove_element(numbers, element):\n",
        "    if element in numbers:\n",
        "        numbers.remove(element)\n",
        "    return numbers\n",
        "numbers_list = [1, 8, 3, 5, 9, 6]\n",
        "element_to_remove = 3\n",
        "print(\"Updated list:\", remove_element(numbers_list, element_to_remove))"
      ]
    },
    {
      "cell_type": "code",
      "execution_count": 16,
      "id": "d80aa813",
      "metadata": {
        "ExecuteTime": {
          "end_time": "2023-07-23T22:21:37.220121Z",
          "start_time": "2023-07-23T22:21:37.215586Z"
        },
        "id": "d80aa813",
        "colab": {
          "base_uri": "https://localhost:8080/"
        },
        "outputId": "a20d59d4-5b77-43fe-e10a-2f7d4526052a"
      },
      "outputs": [
        {
          "output_type": "stream",
          "name": "stdout",
          "text": [
            "Enter the number of elements: 6\n",
            "Enter number 1: 1\n",
            "Enter number 2: 8\n",
            "Enter number 3: 3\n",
            "Enter number 4: 5\n",
            "Enter number 5: 9\n",
            "Enter number 6: 6\n",
            "Enter the element to remove: 3\n",
            "Updated list: [1, 8, 5, 9, 6]\n"
          ]
        }
      ],
      "source": [
        "numbers = []\n",
        "n = int(input(\"Enter the number of elements: \"))\n",
        "for i in range(n):\n",
        "    num = int(input(f\"Enter number {i + 1}: \"))\n",
        "    numbers.append(num)\n",
        "element_to_remove = int(input(\"Enter the element to remove: \"))\n",
        "if element_to_remove in numbers:\n",
        "    numbers.remove(element_to_remove)\n",
        "    print(\"Updated list:\", numbers)\n",
        "else:\n",
        "    print(\"Element not found in the list.\")"
      ]
    },
    {
      "cell_type": "code",
      "execution_count": null,
      "id": "3feaf264",
      "metadata": {
        "ExecuteTime": {
          "end_time": "2023-07-23T22:21:38.480436Z",
          "start_time": "2023-07-23T22:21:38.464574Z"
        },
        "id": "3feaf264"
      },
      "outputs": [],
      "source": []
    },
    {
      "cell_type": "markdown",
      "id": "f1658f3b",
      "metadata": {
        "ExecuteTime": {
          "end_time": "2023-07-23T22:18:08.230185Z",
          "start_time": "2023-07-23T22:18:08.224220Z"
        },
        "id": "f1658f3b"
      },
      "source": [
        "### 9-Given 4 numbers A, B, C and D. Print the last 2 digits from their Multiplication.\n",
        "### Example :\n",
        "### the Multiplication of 4 numbers is 5 * 7 * 2 * 4 = 280 so the answer will be the last 2 digits which are 80."
      ]
    },
    {
      "cell_type": "code",
      "execution_count": 19,
      "id": "e3acbe03",
      "metadata": {
        "ExecuteTime": {
          "end_time": "2023-07-23T22:26:11.183016Z",
          "start_time": "2023-07-23T22:26:03.981069Z"
        },
        "id": "e3acbe03",
        "colab": {
          "base_uri": "https://localhost:8080/"
        },
        "outputId": "2ae22fd2-bfc4-4880-99ce-505f105118a1"
      },
      "outputs": [
        {
          "output_type": "stream",
          "name": "stdout",
          "text": [
            "Enter first number (A): 9\n",
            "Enter second number (B): 8\n",
            "Enter third number (C): 7\n",
            "Enter fourth number (D): 6\n",
            "The multiplication_result are: {3024}\n",
            "Last two digits: 24\n"
          ]
        }
      ],
      "source": [
        "A = int(input(\"Enter first number (A): \"))\n",
        "B = int(input(\"Enter second number (B): \"))\n",
        "C = int(input(\"Enter third number (C): \"))\n",
        "D = int(input(\"Enter fourth number (D): \"))\n",
        "multiplication_result = A * B * C * D\n",
        "last_two_digits = multiplication_result % 100\n",
        "print(\"The multiplication_result are:\", {multiplication_result})\n",
        "print(\"Last two digits:\", last_two_digits)"
      ]
    },
    {
      "cell_type": "markdown",
      "id": "d7ab15bb",
      "metadata": {
        "ExecuteTime": {
          "end_time": "2023-07-23T22:26:14.833712Z",
          "start_time": "2023-07-23T22:26:14.819130Z"
        },
        "id": "d7ab15bb"
      },
      "source": [
        "### 10- Given a number X. Determine if the number is prime or not"
      ]
    },
    {
      "cell_type": "code",
      "execution_count": null,
      "id": "59b27f0a",
      "metadata": {
        "ExecuteTime": {
          "end_time": "2023-07-23T22:35:25.933766Z",
          "start_time": "2023-07-23T22:35:24.168681Z"
        },
        "id": "59b27f0a"
      },
      "outputs": [],
      "source": []
    },
    {
      "cell_type": "code",
      "execution_count": null,
      "id": "03f6ff0e",
      "metadata": {
        "id": "03f6ff0e"
      },
      "outputs": [],
      "source": []
    },
    {
      "cell_type": "markdown",
      "id": "e1d1dcf9",
      "metadata": {
        "id": "e1d1dcf9"
      },
      "source": [
        "### 11- Given a number N and a list A of N numbers. Determine if the number X exists in array A or not and print its position (0-index)."
      ]
    },
    {
      "cell_type": "code",
      "execution_count": 20,
      "id": "2b002b0e",
      "metadata": {
        "ExecuteTime": {
          "end_time": "2023-07-23T22:53:41.474835Z",
          "start_time": "2023-07-23T22:53:41.458293Z"
        },
        "id": "2b002b0e",
        "colab": {
          "base_uri": "https://localhost:8080/"
        },
        "outputId": "a1066df5-4a3f-4546-cbf3-76b18834db75"
      },
      "outputs": [
        {
          "output_type": "stream",
          "name": "stdout",
          "text": [
            "Enter a number: 11\n",
            "Prime\n"
          ]
        }
      ],
      "source": [
        "X = int(input(\"Enter a number: \"))\n",
        "if X < 2:\n",
        "    print(\"Not Prime\")\n",
        "else:\n",
        "    is_prime = True\n",
        "    for i in range(2, int(X ** 0.5) + 1):\n",
        "        if X % i == 0:\n",
        "            is_prime = False\n",
        "            break\n",
        "    if is_prime:\n",
        "        print(\"Prime\")\n",
        "    else:\n",
        "        print(\"Not Prime\")"
      ]
    },
    {
      "cell_type": "markdown",
      "id": "f2ec854b",
      "metadata": {
        "id": "f2ec854b"
      },
      "source": [
        "### 12- Given a number N and a list A of N numbers. Determine if the array is lucky or not.\n",
        "\n",
        "#### Note: the array is lucky if the frequency (number of occurrence) of the minimum element is odd."
      ]
    },
    {
      "cell_type": "code",
      "execution_count": 22,
      "id": "0c4f7f4b",
      "metadata": {
        "ExecuteTime": {
          "end_time": "2023-07-23T23:02:02.490192Z",
          "start_time": "2023-07-23T23:02:02.476874Z"
        },
        "id": "0c4f7f4b",
        "colab": {
          "base_uri": "https://localhost:8080/"
        },
        "outputId": "92e900b9-84d6-46e4-b9a5-a6baffcbb464"
      },
      "outputs": [
        {
          "output_type": "stream",
          "name": "stdout",
          "text": [
            "True\n"
          ]
        }
      ],
      "source": [
        "def is_lucky(N, A):\n",
        "    min_element = min(A)\n",
        "    min_count = A.count(min_element)\n",
        "    if min_count % 2 == 1:\n",
        "        return True\n",
        "    else:\n",
        "        return False\n",
        "N = 5\n",
        "A = [3, 1, 2, 1, 1]\n",
        "print(is_lucky(N, A))"
      ]
    },
    {
      "cell_type": "code",
      "source": [
        "def is_lucky():\n",
        "    N = int(input(\"Enter the number of elements in the list: \"))\n",
        "    A = []\n",
        "    for i in range(N):\n",
        "        num = int(input(f\"Enter number {i+1}: \"))\n",
        "        A.append(num)\n",
        "    min_element = min(A)\n",
        "    print(\"Minimum element:\", min_element)\n",
        "    min_count = A.count(min_element)\n",
        "    if min_count % 2 == 1:\n",
        "        print(\"The list is lucky!\")\n",
        "    else:\n",
        "        print(\"The list is not lucky.\")\n",
        "is_lucky()"
      ],
      "metadata": {
        "colab": {
          "base_uri": "https://localhost:8080/"
        },
        "id": "4Ke-z0Bjzh0W",
        "outputId": "562d282b-406a-4983-9b97-e737e2460f36"
      },
      "id": "4Ke-z0Bjzh0W",
      "execution_count": 23,
      "outputs": [
        {
          "output_type": "stream",
          "name": "stdout",
          "text": [
            "Enter the number of elements in the list: 5\n",
            "Enter number 1: 3\n",
            "Enter number 2: 1\n",
            "Enter number 3: 2\n",
            "Enter number 4: 1\n",
            "Enter number 5: 1\n",
            "Minimum element: 1\n",
            "The list is lucky!\n"
          ]
        }
      ]
    },
    {
      "cell_type": "markdown",
      "id": "e1ce1ae5",
      "metadata": {
        "id": "e1ce1ae5"
      },
      "source": [
        "### 13-Given a number N and a list A of N numbers. Print the array after doing the following operations:\n",
        "\n",
        "#### Find minimum number in these numbers.\n",
        "#### Find maximum number in these numbers.\n",
        "##### Swap minimum number with maximum number."
      ]
    },
    {
      "cell_type": "code",
      "execution_count": 24,
      "id": "e0d6e639",
      "metadata": {
        "ExecuteTime": {
          "end_time": "2023-07-23T23:10:04.293733Z",
          "start_time": "2023-07-23T23:10:04.280256Z"
        },
        "id": "e0d6e639",
        "colab": {
          "base_uri": "https://localhost:8080/"
        },
        "outputId": "01b0ba3a-cd9f-450a-ca61-0093a26055c0"
      },
      "outputs": [
        {
          "output_type": "stream",
          "name": "stdout",
          "text": [
            "list: [3, 5, 2, 1, 1]\n"
          ]
        }
      ],
      "source": [
        "def swap_min_max(N, A):\n",
        "    min_element = min(A)\n",
        "    max_element = max(A)\n",
        "    min_index = A.index(min_element)\n",
        "    max_index = A.index(max_element)\n",
        "    A[min_index], A[max_index] = A[max_index], A[min_index]\n",
        "    print(\"list:\", A)\n",
        "N = 5\n",
        "A = [3, 1, 2, 1, 5]\n",
        "swap_min_max(N, A)\n"
      ]
    },
    {
      "cell_type": "code",
      "execution_count": 28,
      "id": "20165184",
      "metadata": {
        "ExecuteTime": {
          "end_time": "2023-07-23T23:10:04.651957Z",
          "start_time": "2023-07-23T23:10:04.648955Z"
        },
        "id": "20165184",
        "colab": {
          "base_uri": "https://localhost:8080/"
        },
        "outputId": "a41ed9a3-bc7c-450b-b23d-fb908cae77cd"
      },
      "outputs": [
        {
          "output_type": "stream",
          "name": "stdout",
          "text": [
            "Enter the number of elements in the list: 5\n",
            "Enter number 1: 3\n",
            "Enter number 2: 1\n",
            "Enter number 3: 2\n",
            "Enter number 4: 1\n",
            "Enter number 5: 5\n",
            "list: [3, 5, 2, 1, 1]\n"
          ]
        }
      ],
      "source": [
        "N = int(input(\"Enter the number of elements in the list: \"))\n",
        "A = []\n",
        "for i in range(N):\n",
        "    num = int(input(f\"Enter number {i+1}: \"))\n",
        "    A.append(num)\n",
        "min_element = min(A)\n",
        "max_element = max(A)\n",
        "min_index = A.index(min_element)\n",
        "max_index = A.index(max_element)\n",
        "[min_index], A[max_index] = A[max_index], A[min_index]\n",
        "print(\"list:\", A)"
      ]
    },
    {
      "cell_type": "code",
      "execution_count": null,
      "id": "4e5ac998",
      "metadata": {
        "ExecuteTime": {
          "end_time": "2023-07-23T23:56:27.327202Z",
          "start_time": "2023-07-23T23:56:27.327202Z"
        },
        "id": "4e5ac998"
      },
      "outputs": [],
      "source": []
    },
    {
      "cell_type": "markdown",
      "id": "9eb8e9c5",
      "metadata": {
        "ExecuteTime": {
          "end_time": "2023-07-23T23:10:06.436833Z",
          "start_time": "2023-07-23T23:10:06.422086Z"
        },
        "id": "9eb8e9c5"
      },
      "source": [
        "### 14-Given a number N and an array A of N numbers. Print the lowest number and its position.\n",
        "\n",
        "### Note: if there are more than one answer print first one's position."
      ]
    },
    {
      "cell_type": "code",
      "execution_count": 25,
      "id": "018e01c8",
      "metadata": {
        "ExecuteTime": {
          "end_time": "2023-07-23T23:20:38.498527Z",
          "start_time": "2023-07-23T23:20:38.490451Z"
        },
        "id": "018e01c8",
        "colab": {
          "base_uri": "https://localhost:8080/"
        },
        "outputId": "f37fb747-a15e-4bf2-e351-51f8157b0183"
      },
      "outputs": [
        {
          "output_type": "stream",
          "name": "stdout",
          "text": [
            "Lowest number: {1}\n",
            "Position: {1}\n"
          ]
        }
      ],
      "source": [
        "def find_lowest_and_position(N, A):\n",
        "    min_element = min(A)\n",
        "    min_index = A.index(min_element)\n",
        "    print(\"Lowest number:\" ,{min_element})\n",
        "    print(\"Position:\" ,{min_index})\n",
        "N = 5\n",
        "A = [3, 1, 2, 1, 5]\n",
        "find_lowest_and_position(N, A)\n"
      ]
    },
    {
      "cell_type": "code",
      "execution_count": 26,
      "id": "477554c7",
      "metadata": {
        "ExecuteTime": {
          "end_time": "2023-07-23T23:20:55.126958Z",
          "start_time": "2023-07-23T23:20:55.120450Z"
        },
        "id": "477554c7",
        "colab": {
          "base_uri": "https://localhost:8080/"
        },
        "outputId": "f6e60072-fa1b-4b7d-ec3b-9968db7b3e77"
      },
      "outputs": [
        {
          "output_type": "stream",
          "name": "stdout",
          "text": [
            "Lowest number: 1\n",
            "Position: 1\n"
          ]
        }
      ],
      "source": [
        "N = 5\n",
        "A = [3, 1, 2, 1, 5]\n",
        "min_element = min(A)\n",
        "min_index = A.index(min_element)\n",
        "print(\"Lowest number:\", min_element)\n",
        "print(\"Position:\", min_index)\n"
      ]
    },
    {
      "cell_type": "code",
      "execution_count": null,
      "id": "27e032e4",
      "metadata": {
        "ExecuteTime": {
          "end_time": "2023-07-23T23:20:55.425024Z",
          "start_time": "2023-07-23T23:20:55.407711Z"
        },
        "id": "27e032e4"
      },
      "outputs": [],
      "source": []
    },
    {
      "cell_type": "markdown",
      "id": "f35d3427",
      "metadata": {
        "ExecuteTime": {
          "end_time": "2023-07-23T23:20:55.880128Z",
          "start_time": "2023-07-23T23:20:55.861804Z"
        },
        "id": "f35d3427"
      },
      "source": [
        "### 15-Given a number N and an array A of N numbers. Print the numbers after sorting them"
      ]
    },
    {
      "cell_type": "code",
      "execution_count": 29,
      "id": "a6e0edd4",
      "metadata": {
        "ExecuteTime": {
          "end_time": "2023-07-23T23:46:13.340484Z",
          "start_time": "2023-07-23T23:46:13.324468Z"
        },
        "id": "a6e0edd4",
        "colab": {
          "base_uri": "https://localhost:8080/"
        },
        "outputId": "e0ebd6d1-e700-4afc-ee51-9cd2f7916144"
      },
      "outputs": [
        {
          "output_type": "stream",
          "name": "stdout",
          "text": [
            "Enter the number of elements in the array: 5\n",
            "Enter number 1: 9\n",
            "Enter number 2: 5\n",
            "Enter number 3: 3\n",
            "Enter number 4: 7\n",
            "Enter number 5: 6\n",
            "Sorted array: [3, 5, 6, 7, 9]\n"
          ]
        }
      ],
      "source": [
        "N = int(input(\"Enter the number of elements in the array: \"))\n",
        "A = []\n",
        "for i in range(N):\n",
        "    num = int(input(\"Enter number {i+1}: \"))\n",
        "    A.append(num)\n",
        "A.sort()\n",
        "print(\"Sorted array:\", A)"
      ]
    },
    {
      "cell_type": "code",
      "execution_count": 30,
      "id": "38100d74",
      "metadata": {
        "ExecuteTime": {
          "end_time": "2023-07-23T23:46:14.343960Z",
          "start_time": "2023-07-23T23:46:14.325805Z"
        },
        "id": "38100d74",
        "colab": {
          "base_uri": "https://localhost:8080/"
        },
        "outputId": "59449687-9f1b-4c57-bb89-2a5c3e4262d5"
      },
      "outputs": [
        {
          "output_type": "stream",
          "name": "stdout",
          "text": [
            "Enter the number of elements in the array: 5\n",
            "Enter number 1: 9\n",
            "Enter number 2: 5\n",
            "Enter number 3: 3\n",
            "Enter number 4: 7\n",
            "Enter number 5: 6\n",
            "Sorted array: [3, 5, 6, 7, 9]\n"
          ]
        }
      ],
      "source": [
        "def sort_array(N, A):\n",
        "    A.sort()\n",
        "    print(\"Sorted array:\", A)\n",
        "N = int(input(\"Enter the number of elements in the array: \"))\n",
        "A = []\n",
        "for i in range(N):\n",
        "    num = int(input(\"Enter number {i+1}: \"))\n",
        "    A.append(num)\n",
        "sort_array(N, A)"
      ]
    },
    {
      "cell_type": "markdown",
      "id": "a172f354",
      "metadata": {
        "ExecuteTime": {
          "end_time": "2023-07-23T23:46:15.127981Z",
          "start_time": "2023-07-23T23:46:15.108766Z"
        },
        "id": "a172f354"
      },
      "source": [
        "### 16- Write a Python program to remove spaces from a given string"
      ]
    },
    {
      "cell_type": "code",
      "execution_count": 31,
      "id": "36d3569d",
      "metadata": {
        "ExecuteTime": {
          "end_time": "2023-07-23T23:50:06.443640Z",
          "start_time": "2023-07-23T23:50:01.592919Z"
        },
        "id": "36d3569d",
        "colab": {
          "base_uri": "https://localhost:8080/"
        },
        "outputId": "2954977d-67f5-4ced-838e-7a8ca913342e"
      },
      "outputs": [
        {
          "output_type": "stream",
          "name": "stdout",
          "text": [
            "Enter a string: habiba medhat mihamed ali\n",
            "String without spaces: habibamedhatmihamedali\n"
          ]
        }
      ],
      "source": [
        "input_string = input(\"Enter a string: \")\n",
        "output_string = input_string.replace(\" \", \"\")\n",
        "print(\"String without spaces:\", output_string)"
      ]
    },
    {
      "cell_type": "markdown",
      "id": "a5470d49",
      "metadata": {
        "id": "a5470d49"
      },
      "source": [
        "### 17-write a Python program to swap first and last element of any list."
      ]
    },
    {
      "cell_type": "code",
      "execution_count": 32,
      "id": "9d73887b",
      "metadata": {
        "ExecuteTime": {
          "end_time": "2023-07-23T23:50:59.283429Z",
          "start_time": "2023-07-23T23:50:59.272096Z"
        },
        "id": "9d73887b",
        "colab": {
          "base_uri": "https://localhost:8080/"
        },
        "outputId": "e555efdd-62c0-495c-8a8b-15e331d8b200"
      },
      "outputs": [
        {
          "output_type": "stream",
          "name": "stdout",
          "text": [
            "List after swapping first and last elements: [5, 2, 3, 4, 1]\n"
          ]
        }
      ],
      "source": [
        "A = [1, 2, 3, 4, 5]\n",
        "A[0], A[-1] = A[-1], A[0]\n",
        "print(\"List after swapping first and last elements:\", A)"
      ]
    },
    {
      "cell_type": "code",
      "source": [
        "N = int(input(\"Enter the number of elements in the list: \"))\n",
        "A = []\n",
        "for i in range(N):\n",
        "    num = int(input(\"Enter number {i+1}: \"))\n",
        "    A.append(num)\n",
        "A[0], A[-1] = A[-1], A[0]\n",
        "print(\"List after swapping first and last elements:\", A)"
      ],
      "metadata": {
        "colab": {
          "base_uri": "https://localhost:8080/"
        },
        "id": "GPlvtA_d4nVg",
        "outputId": "a194f4e3-1cc9-4114-d30b-84076bbd4df9"
      },
      "id": "GPlvtA_d4nVg",
      "execution_count": 34,
      "outputs": [
        {
          "output_type": "stream",
          "name": "stdout",
          "text": [
            "Enter the number of elements in the list: 5\n",
            "Enter number 1: 5\n",
            "Enter number 2: 2\n",
            "Enter number 3: 3\n",
            "Enter number 4: 4\n",
            "Enter number 5: 1\n",
            "List after swapping first and last elements: [1, 2, 3, 4, 5]\n"
          ]
        }
      ]
    },
    {
      "cell_type": "markdown",
      "source": [
        "# **Write a Python Program to Find HCF.**\n",
        "## Highest Common Factor(HCF): HCF, or Highest Common Factor, is the largest positive integer that divides two or more numbers without leaving a remainder. Formula: For two numbers a and b, the HCF can be found using the formula:\n",
        "\n",
        "** HCF(𝑎, 𝑏) = GCD(𝑎, 𝑏)**\n",
        "For more than two numbers, you can find the HCF by taking the GCD of pairs of numbers at a time until you reach the last pair.\n",
        "\n",
        "# **Note: GCD stands for Greatest Common Divisor, use function.**\n"
      ],
      "metadata": {
        "id": "iS6JiE4uPbyH"
      },
      "id": "iS6JiE4uPbyH"
    },
    {
      "cell_type": "code",
      "source": [
        "N = int(input(\"Enter the number of elements in the list: \"))\n",
        "A = []\n",
        "for i in range(N):\n",
        "    num = int(input(f\"Enter number {i+1}: \"))\n",
        "    A.append(num)\n",
        "a = A[0]\n",
        "for b in A[1:]:\n",
        "    while b:\n",
        "        a, b = b, a % b\n",
        "print(\"HCF of the given numbers is:\", a)\n"
      ],
      "metadata": {
        "colab": {
          "base_uri": "https://localhost:8080/"
        },
        "id": "8V28xIXc4k_F",
        "outputId": "8584b9f6-2853-486a-c929-a7afac8dcd27"
      },
      "id": "8V28xIXc4k_F",
      "execution_count": 35,
      "outputs": [
        {
          "output_type": "stream",
          "name": "stdout",
          "text": [
            "Enter the number of elements in the list: 3\n",
            "Enter number 1: 24\n",
            "Enter number 2: 36\n",
            "Enter number 3: 60\n",
            "HCF of the given numbers is: 12\n"
          ]
        }
      ]
    },
    {
      "cell_type": "code",
      "source": [],
      "metadata": {
        "id": "9qUfYf0wPnvt"
      },
      "id": "9qUfYf0wPnvt",
      "execution_count": null,
      "outputs": []
    },
    {
      "cell_type": "code",
      "source": [],
      "metadata": {
        "id": "z_H0XSJnPeMw"
      },
      "id": "z_H0XSJnPeMw",
      "execution_count": null,
      "outputs": []
    }
  ],
  "metadata": {
    "kernelspec": {
      "display_name": "Python 3 (ipykernel)",
      "language": "python",
      "name": "python3"
    },
    "language_info": {
      "codemirror_mode": {
        "name": "ipython",
        "version": 3
      },
      "file_extension": ".py",
      "mimetype": "text/x-python",
      "name": "python",
      "nbconvert_exporter": "python",
      "pygments_lexer": "ipython3",
      "version": "3.9.12"
    },
    "colab": {
      "provenance": [],
      "include_colab_link": true
    }
  },
  "nbformat": 4,
  "nbformat_minor": 5
}